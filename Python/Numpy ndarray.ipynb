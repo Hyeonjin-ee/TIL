{
 "cells": [
  {
   "cell_type": "markdown",
   "id": "ae42f7da",
   "metadata": {},
   "source": [
    "## Numpy 성능"
   ]
  },
  {
   "cell_type": "code",
   "execution_count": 1,
   "id": "53c35a8a",
   "metadata": {},
   "outputs": [],
   "source": [
    "import numpy as np "
   ]
  },
  {
   "cell_type": "code",
   "execution_count": 2,
   "id": "8c4bfff7",
   "metadata": {},
   "outputs": [],
   "source": [
    "#파이썬 리스트 \n",
    "py_list = list(range(1000000))"
   ]
  },
  {
   "cell_type": "code",
   "execution_count": 3,
   "id": "0d7a4608",
   "metadata": {},
   "outputs": [],
   "source": [
    "# 넘파이 array\n",
    "np_array = np.arange(1000000)"
   ]
  },
  {
   "cell_type": "code",
   "execution_count": 5,
   "id": "3b167d48",
   "metadata": {},
   "outputs": [
    {
     "name": "stdout",
     "output_type": "stream",
     "text": [
      "CPU times: total: 78.1 ms\n",
      "Wall time: 78.6 ms\n"
     ]
    }
   ],
   "source": [
    "%time py_list = [x * 2 for x in py_list]"
   ]
  },
  {
   "cell_type": "code",
   "execution_count": 6,
   "id": "84626496",
   "metadata": {},
   "outputs": [
    {
     "name": "stdout",
     "output_type": "stream",
     "text": [
      "CPU times: total: 0 ns\n",
      "Wall time: 998 µs\n"
     ]
    }
   ],
   "source": [
    "%time np_array2 = np_array * 2"
   ]
  },
  {
   "cell_type": "markdown",
   "id": "86e4fe41",
   "metadata": {},
   "source": [
    "# 1. Numpy ndarray(다차원 배열 객체)"
   ]
  },
  {
   "cell_type": "markdown",
   "id": "3141c95d",
   "metadata": {},
   "source": [
    "### 1.1 ndarray 생성하기"
   ]
  },
  {
   "cell_type": "code",
   "execution_count": 11,
   "id": "d59e31dc",
   "metadata": {},
   "outputs": [
    {
     "data": {
      "text/plain": [
       "array([1, 2, 3, 4])"
      ]
     },
     "execution_count": 11,
     "metadata": {},
     "output_type": "execute_result"
    }
   ],
   "source": [
    "data1 = [1, 2, 3, 4]\n",
    "arr1 = np.array(data1)\n",
    "arr1"
   ]
  },
  {
   "cell_type": "code",
   "execution_count": 8,
   "id": "3d3e8b26",
   "metadata": {},
   "outputs": [
    {
     "data": {
      "text/plain": [
       "array([[1, 2, 3],\n",
       "       [1, 2, 3]])"
      ]
     },
     "execution_count": 8,
     "metadata": {},
     "output_type": "execute_result"
    }
   ],
   "source": [
    "data2 = [[1,2,3], [1,2,3]]\n",
    "arr2 = np.array(data2)\n",
    "arr2"
   ]
  },
  {
   "cell_type": "code",
   "execution_count": 12,
   "id": "4676b331",
   "metadata": {},
   "outputs": [
    {
     "data": {
      "text/plain": [
       "(4,)"
      ]
     },
     "execution_count": 12,
     "metadata": {},
     "output_type": "execute_result"
    }
   ],
   "source": [
    "arr1.shape\n"
   ]
  },
  {
   "cell_type": "code",
   "execution_count": 14,
   "id": "524ebb8b",
   "metadata": {},
   "outputs": [
    {
     "data": {
      "text/plain": [
       "1"
      ]
     },
     "execution_count": 14,
     "metadata": {},
     "output_type": "execute_result"
    }
   ],
   "source": [
    "arr1.ndim"
   ]
  },
  {
   "cell_type": "code",
   "execution_count": 13,
   "id": "2bda5958",
   "metadata": {},
   "outputs": [
    {
     "data": {
      "text/plain": [
       "(2, 3)"
      ]
     },
     "execution_count": 13,
     "metadata": {},
     "output_type": "execute_result"
    }
   ],
   "source": [
    "arr2.shape # (행, 열)"
   ]
  },
  {
   "cell_type": "code",
   "execution_count": 15,
   "id": "1a2325fd",
   "metadata": {},
   "outputs": [
    {
     "data": {
      "text/plain": [
       "2"
      ]
     },
     "execution_count": 15,
     "metadata": {},
     "output_type": "execute_result"
    }
   ],
   "source": [
    "arr2.ndim"
   ]
  },
  {
   "cell_type": "code",
   "execution_count": 17,
   "id": "10f69f62",
   "metadata": {},
   "outputs": [
    {
     "data": {
      "text/plain": [
       "dtype('int32')"
      ]
     },
     "execution_count": 17,
     "metadata": {},
     "output_type": "execute_result"
    }
   ],
   "source": [
    "arr2.dtype"
   ]
  },
  {
   "cell_type": "code",
   "execution_count": 18,
   "id": "5eb44e53",
   "metadata": {},
   "outputs": [
    {
     "data": {
      "text/plain": [
       "numpy.ndarray"
      ]
     },
     "execution_count": 18,
     "metadata": {},
     "output_type": "execute_result"
    }
   ],
   "source": [
    "type(arr1)"
   ]
  },
  {
   "cell_type": "code",
   "execution_count": 21,
   "id": "ab491bdb",
   "metadata": {},
   "outputs": [
    {
     "data": {
      "text/plain": [
       "numpy.ndarray"
      ]
     },
     "execution_count": 21,
     "metadata": {},
     "output_type": "execute_result"
    }
   ],
   "source": [
    "np.zeros(10) # 0으로만 이루어진 size = 10인 ndarray 만들기\n",
    "type(np.zeros(10))"
   ]
  },
  {
   "cell_type": "code",
   "execution_count": 23,
   "id": "cdb7c720",
   "metadata": {},
   "outputs": [
    {
     "data": {
      "text/plain": [
       "numpy.ndarray"
      ]
     },
     "execution_count": 23,
     "metadata": {},
     "output_type": "execute_result"
    }
   ],
   "source": [
    "np.ones(10) # 1로만 이루어진 size = 10인 ndarray 만들기\n",
    "type(np.ones(10))"
   ]
  },
  {
   "cell_type": "code",
   "execution_count": 25,
   "id": "0f3039d6",
   "metadata": {},
   "outputs": [
    {
     "data": {
      "text/plain": [
       "array([[0., 0., 0.],\n",
       "       [0., 0., 0.]])"
      ]
     },
     "execution_count": 25,
     "metadata": {},
     "output_type": "execute_result"
    }
   ],
   "source": [
    "np.zeros((2,3))"
   ]
  },
  {
   "cell_type": "code",
   "execution_count": 26,
   "id": "fd72f6eb",
   "metadata": {},
   "outputs": [
    {
     "data": {
      "text/plain": [
       "array([0, 1, 2, 3, 4, 5, 6, 7, 8, 9])"
      ]
     },
     "execution_count": 26,
     "metadata": {},
     "output_type": "execute_result"
    }
   ],
   "source": [
    "np.arange(10)"
   ]
  },
  {
   "cell_type": "markdown",
   "id": "33766d06",
   "metadata": {},
   "source": [
    "### 1.2 ndarray의 dtype"
   ]
  },
  {
   "cell_type": "code",
   "execution_count": 29,
   "id": "48a7d8d7",
   "metadata": {},
   "outputs": [
    {
     "data": {
      "text/plain": [
       "array([1., 2., 3.])"
      ]
     },
     "execution_count": 29,
     "metadata": {},
     "output_type": "execute_result"
    }
   ],
   "source": [
    "arr1 = np.array([1,2,3], dtype=np.float64)\n",
    "arr1"
   ]
  },
  {
   "cell_type": "code",
   "execution_count": 30,
   "id": "e3fe5850",
   "metadata": {},
   "outputs": [
    {
     "data": {
      "text/plain": [
       "dtype('float64')"
      ]
     },
     "execution_count": 30,
     "metadata": {},
     "output_type": "execute_result"
    }
   ],
   "source": [
    "arr1.dtype"
   ]
  },
  {
   "cell_type": "code",
   "execution_count": 32,
   "id": "19153a1e",
   "metadata": {},
   "outputs": [
    {
     "data": {
      "text/plain": [
       "array([1, 2, 3], dtype=int64)"
      ]
     },
     "execution_count": 32,
     "metadata": {},
     "output_type": "execute_result"
    }
   ],
   "source": [
    "int_arr = arr1.astype(np.int64) # 이미 생성한 arr1을 int타입으로 형변환해주는 함수 \n",
    "int_arr"
   ]
  },
  {
   "cell_type": "code",
   "execution_count": 33,
   "id": "2a1ddc65",
   "metadata": {},
   "outputs": [
    {
     "data": {
      "text/plain": [
       "dtype('int64')"
      ]
     },
     "execution_count": 33,
     "metadata": {},
     "output_type": "execute_result"
    }
   ],
   "source": [
    "int_arr.dtype"
   ]
  },
  {
   "cell_type": "markdown",
   "id": "5beb2fd4",
   "metadata": {},
   "source": [
    "### 1.3 Numpy 배열의 산술연산"
   ]
  },
  {
   "cell_type": "code",
   "execution_count": 35,
   "id": "2d4a1671",
   "metadata": {},
   "outputs": [
    {
     "data": {
      "text/plain": [
       "array([[1., 2., 3.],\n",
       "       [4., 5., 6.]])"
      ]
     },
     "execution_count": 35,
     "metadata": {},
     "output_type": "execute_result"
    }
   ],
   "source": [
    "arr = np.array([[1., 2., 3.], [4., 5., 6.]]) # 1. = 1.0 실수표현(float)\n",
    "arr"
   ]
  },
  {
   "cell_type": "code",
   "execution_count": 36,
   "id": "c406e2d3",
   "metadata": {},
   "outputs": [
    {
     "data": {
      "text/plain": [
       "array([[ 1.,  4.,  9.],\n",
       "       [16., 25., 36.]])"
      ]
     },
     "execution_count": 36,
     "metadata": {},
     "output_type": "execute_result"
    }
   ],
   "source": [
    "arr * arr"
   ]
  },
  {
   "cell_type": "code",
   "execution_count": 37,
   "id": "7efd45c7",
   "metadata": {},
   "outputs": [
    {
     "data": {
      "text/plain": [
       "array([[0., 0., 0.],\n",
       "       [0., 0., 0.]])"
      ]
     },
     "execution_count": 37,
     "metadata": {},
     "output_type": "execute_result"
    }
   ],
   "source": [
    "arr - arr"
   ]
  },
  {
   "cell_type": "code",
   "execution_count": 38,
   "id": "0c803a2a",
   "metadata": {},
   "outputs": [
    {
     "data": {
      "text/plain": [
       "array([[ 2.,  4.,  6.],\n",
       "       [ 8., 10., 12.]])"
      ]
     },
     "execution_count": 38,
     "metadata": {},
     "output_type": "execute_result"
    }
   ],
   "source": [
    "arr * 2 # broadcasting 의 예"
   ]
  },
  {
   "cell_type": "code",
   "execution_count": 41,
   "id": "3ade15d2",
   "metadata": {},
   "outputs": [
    {
     "data": {
      "text/plain": [
       "array([[2., 3., 4.],\n",
       "       [5., 6., 7.]])"
      ]
     },
     "execution_count": 41,
     "metadata": {},
     "output_type": "execute_result"
    }
   ],
   "source": [
    "arr2 = np.array([[2., 3., 4.], [5., 6., 7.]])\n",
    "arr2"
   ]
  },
  {
   "cell_type": "code",
   "execution_count": 40,
   "id": "5c978872",
   "metadata": {},
   "outputs": [
    {
     "data": {
      "text/plain": [
       "array([[ True,  True,  True],\n",
       "       [ True,  True,  True]])"
      ]
     },
     "execution_count": 40,
     "metadata": {},
     "output_type": "execute_result"
    }
   ],
   "source": [
    "arr < arr2"
   ]
  },
  {
   "cell_type": "markdown",
   "id": "98e05315",
   "metadata": {},
   "source": [
    "### 1.4 색인과 슬라이싱"
   ]
  },
  {
   "cell_type": "code",
   "execution_count": 42,
   "id": "128de19a",
   "metadata": {},
   "outputs": [
    {
     "data": {
      "text/plain": [
       "array([0, 1, 2, 3, 4, 5, 6, 7, 8, 9])"
      ]
     },
     "execution_count": 42,
     "metadata": {},
     "output_type": "execute_result"
    }
   ],
   "source": [
    "arr = np.arange(10)\n",
    "arr"
   ]
  },
  {
   "cell_type": "code",
   "execution_count": 43,
   "id": "c598bb5c",
   "metadata": {},
   "outputs": [
    {
     "data": {
      "text/plain": [
       "5"
      ]
     },
     "execution_count": 43,
     "metadata": {},
     "output_type": "execute_result"
    }
   ],
   "source": [
    "arr[5] #색인"
   ]
  },
  {
   "cell_type": "code",
   "execution_count": 44,
   "id": "72886325",
   "metadata": {},
   "outputs": [
    {
     "data": {
      "text/plain": [
       "array([5, 6])"
      ]
     },
     "execution_count": 44,
     "metadata": {},
     "output_type": "execute_result"
    }
   ],
   "source": [
    "arr[5:7] # 슬라이싱"
   ]
  },
  {
   "cell_type": "code",
   "execution_count": 46,
   "id": "66db9a86",
   "metadata": {},
   "outputs": [
    {
     "data": {
      "text/plain": [
       "array([  0,   1,   2,   3,   4, 100, 100,   7,   8,   9])"
      ]
     },
     "execution_count": 46,
     "metadata": {},
     "output_type": "execute_result"
    }
   ],
   "source": [
    "arr[5:7] = 100\n",
    "arr"
   ]
  },
  {
   "cell_type": "code",
   "execution_count": 48,
   "id": "f441431d",
   "metadata": {},
   "outputs": [
    {
     "data": {
      "text/plain": [
       "array([0, 1, 2, 3, 4, 5, 6, 7, 8, 9])"
      ]
     },
     "execution_count": 48,
     "metadata": {},
     "output_type": "execute_result"
    }
   ],
   "source": [
    "arr = np.arange(10)\n",
    "arr"
   ]
  },
  {
   "cell_type": "code",
   "execution_count": 50,
   "id": "382ad36f",
   "metadata": {},
   "outputs": [
    {
     "data": {
      "text/plain": [
       "array([5, 6])"
      ]
     },
     "execution_count": 50,
     "metadata": {},
     "output_type": "execute_result"
    }
   ],
   "source": [
    "brr = arr[5:7]\n",
    "brr"
   ]
  },
  {
   "cell_type": "code",
   "execution_count": 52,
   "id": "846a2bfc",
   "metadata": {},
   "outputs": [
    {
     "data": {
      "text/plain": [
       "array([  0,   1,   2,   3,   4, 100, 100,   7,   8,   9])"
      ]
     },
     "execution_count": 52,
     "metadata": {},
     "output_type": "execute_result"
    }
   ],
   "source": [
    "arr[5:7] = 100\n",
    "arr"
   ]
  },
  {
   "cell_type": "code",
   "execution_count": 53,
   "id": "a2391fbd",
   "metadata": {},
   "outputs": [
    {
     "data": {
      "text/plain": [
       "array([100, 100])"
      ]
     },
     "execution_count": 53,
     "metadata": {},
     "output_type": "execute_result"
    }
   ],
   "source": [
    "brr # brr = arr[5:7] = 100 -> 주소값을 공유하는 것을 확인할 수 있음"
   ]
  },
  {
   "cell_type": "code",
   "execution_count": 54,
   "id": "206fb4f9",
   "metadata": {},
   "outputs": [],
   "source": [
    "arr2d = np.array([[1,2,3], [4,5,6], [7,8,9]])"
   ]
  },
  {
   "cell_type": "code",
   "execution_count": 55,
   "id": "efe798ad",
   "metadata": {},
   "outputs": [
    {
     "data": {
      "text/plain": [
       "((3, 3), 2)"
      ]
     },
     "execution_count": 55,
     "metadata": {},
     "output_type": "execute_result"
    }
   ],
   "source": [
    "arr2d.shape, arr2d.ndim"
   ]
  },
  {
   "cell_type": "code",
   "execution_count": 56,
   "id": "eca2f7d0",
   "metadata": {},
   "outputs": [
    {
     "data": {
      "text/plain": [
       "array([[1, 2, 3],\n",
       "       [4, 5, 6],\n",
       "       [7, 8, 9]])"
      ]
     },
     "execution_count": 56,
     "metadata": {},
     "output_type": "execute_result"
    }
   ],
   "source": [
    "arr2d"
   ]
  },
  {
   "cell_type": "code",
   "execution_count": 57,
   "id": "b13d7897",
   "metadata": {},
   "outputs": [
    {
     "data": {
      "text/plain": [
       "array([7, 8, 9])"
      ]
     },
     "execution_count": 57,
     "metadata": {},
     "output_type": "execute_result"
    }
   ],
   "source": [
    "arr2d[2] # 2차원 array를 색인하면 1차원, 1차원 array를 색인하면 원소 하나가 추출"
   ]
  },
  {
   "cell_type": "code",
   "execution_count": 59,
   "id": "52add217",
   "metadata": {},
   "outputs": [
    {
     "data": {
      "text/plain": [
       "array([0, 1, 2, 3, 4, 5, 6, 7, 8, 9])"
      ]
     },
     "execution_count": 59,
     "metadata": {},
     "output_type": "execute_result"
    }
   ],
   "source": [
    "arr = np.arange(10)\n",
    "arr"
   ]
  },
  {
   "cell_type": "code",
   "execution_count": 61,
   "id": "f538e439",
   "metadata": {},
   "outputs": [
    {
     "data": {
      "text/plain": [
       "9"
      ]
     },
     "execution_count": 61,
     "metadata": {},
     "output_type": "execute_result"
    }
   ],
   "source": [
    "arr[9]"
   ]
  },
  {
   "cell_type": "code",
   "execution_count": 62,
   "id": "99865324",
   "metadata": {},
   "outputs": [
    {
     "data": {
      "text/plain": [
       "array([[1, 2, 3],\n",
       "       [4, 5, 6],\n",
       "       [7, 8, 9]])"
      ]
     },
     "execution_count": 62,
     "metadata": {},
     "output_type": "execute_result"
    }
   ],
   "source": [
    "arr2d"
   ]
  },
  {
   "cell_type": "code",
   "execution_count": 70,
   "id": "d2d0957a",
   "metadata": {},
   "outputs": [
    {
     "data": {
      "text/plain": [
       "array([7, 8, 9])"
      ]
     },
     "execution_count": 70,
     "metadata": {},
     "output_type": "execute_result"
    }
   ],
   "source": [
    "x = arr2d[2]\n",
    "x"
   ]
  },
  {
   "cell_type": "code",
   "execution_count": 71,
   "id": "d6da296d",
   "metadata": {},
   "outputs": [
    {
     "data": {
      "text/plain": [
       "9"
      ]
     },
     "execution_count": 71,
     "metadata": {},
     "output_type": "execute_result"
    }
   ],
   "source": [
    "x[2] # arr2d[2][2]"
   ]
  },
  {
   "cell_type": "code",
   "execution_count": 72,
   "id": "d0d7f521",
   "metadata": {},
   "outputs": [
    {
     "data": {
      "text/plain": [
       "9"
      ]
     },
     "execution_count": 72,
     "metadata": {},
     "output_type": "execute_result"
    }
   ],
   "source": [
    "arr2d[2][2]"
   ]
  },
  {
   "cell_type": "code",
   "execution_count": 73,
   "id": "2431e82f",
   "metadata": {},
   "outputs": [
    {
     "data": {
      "text/plain": [
       "9"
      ]
     },
     "execution_count": 73,
     "metadata": {},
     "output_type": "execute_result"
    }
   ],
   "source": [
    "arr2d[2, 2]"
   ]
  },
  {
   "cell_type": "code",
   "execution_count": 74,
   "id": "826f17df",
   "metadata": {},
   "outputs": [
    {
     "data": {
      "text/plain": [
       "array([[1, 2, 3],\n",
       "       [4, 5, 6],\n",
       "       [7, 8, 9]])"
      ]
     },
     "execution_count": 74,
     "metadata": {},
     "output_type": "execute_result"
    }
   ],
   "source": [
    "arr2d"
   ]
  },
  {
   "cell_type": "code",
   "execution_count": 75,
   "id": "9c858515",
   "metadata": {},
   "outputs": [
    {
     "data": {
      "text/plain": [
       "array([[1, 2, 3],\n",
       "       [4, 5, 6]])"
      ]
     },
     "execution_count": 75,
     "metadata": {},
     "output_type": "execute_result"
    }
   ],
   "source": [
    "arr2d[:2] # arr2d[0], arr2d[1]까지의 값"
   ]
  },
  {
   "cell_type": "code",
   "execution_count": 77,
   "id": "0757a44d",
   "metadata": {},
   "outputs": [
    {
     "data": {
      "text/plain": [
       "array([[2, 3],\n",
       "       [5, 6]])"
      ]
     },
     "execution_count": 77,
     "metadata": {},
     "output_type": "execute_result"
    }
   ],
   "source": [
    "arr2d[:2, 1:] # 색인했을 경우에는 2차원 데이터를 색인하면 1차원 데이터\n",
    "              # 슬라이싱을 하고난 결과는 2차원 데이터 그대로임"
   ]
  },
  {
   "cell_type": "code",
   "execution_count": 97,
   "id": "25ff0306",
   "metadata": {},
   "outputs": [
    {
     "data": {
      "text/plain": [
       "array([2, 5])"
      ]
     },
     "execution_count": 97,
     "metadata": {},
     "output_type": "execute_result"
    }
   ],
   "source": [
    "arr2d[:2, 1]"
   ]
  },
  {
   "cell_type": "code",
   "execution_count": 79,
   "id": "6c95cb78",
   "metadata": {},
   "outputs": [
    {
     "data": {
      "text/plain": [
       "9"
      ]
     },
     "execution_count": 79,
     "metadata": {},
     "output_type": "execute_result"
    }
   ],
   "source": [
    "arr2d[2][2]"
   ]
  },
  {
   "cell_type": "code",
   "execution_count": 81,
   "id": "f3977cfc",
   "metadata": {},
   "outputs": [
    {
     "data": {
      "text/plain": [
       "array([[1, 2, 3],\n",
       "       [4, 5, 6]])"
      ]
     },
     "execution_count": 81,
     "metadata": {},
     "output_type": "execute_result"
    }
   ],
   "source": [
    "arr2d[:2]"
   ]
  },
  {
   "cell_type": "code",
   "execution_count": 116,
   "id": "eb6c5319",
   "metadata": {},
   "outputs": [
    {
     "data": {
      "text/plain": [
       "array([[4, 5, 6]])"
      ]
     },
     "execution_count": 116,
     "metadata": {},
     "output_type": "execute_result"
    }
   ],
   "source": [
    "arr2d[:2][1:] # 행을 먼저 슬라이싱 한 뒤 -> 열을 슬라이싱 했기떄문에 값이 4,5,6만 나오는 것. "
   ]
  },
  {
   "cell_type": "code",
   "execution_count": 83,
   "id": "688af317",
   "metadata": {},
   "outputs": [
    {
     "data": {
      "text/plain": [
       "array([[1, 2, 3],\n",
       "       [4, 5, 6],\n",
       "       [7, 8, 9]])"
      ]
     },
     "execution_count": 83,
     "metadata": {},
     "output_type": "execute_result"
    }
   ],
   "source": [
    "arr2d"
   ]
  },
  {
   "cell_type": "markdown",
   "id": "c0c5f517",
   "metadata": {},
   "source": [
    "\n",
    "![image.png](data:image/png;base64,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)"
   ]
  },
  {
   "cell_type": "code",
   "execution_count": 89,
   "id": "7434d3d3",
   "metadata": {},
   "outputs": [
    {
     "name": "stdout",
     "output_type": "stream",
     "text": [
      " F 드라이브의 볼륨: Elements\n",
      " 볼륨 일련 번호: ACB9-AC7D\n",
      "\n",
      " F:\\BigData\\04.python 디렉터리\n",
      "\n",
      "2022-06-21  오후 11:58    <DIR>          .\n",
      "2022-06-21  오후 11:58    <DIR>          ..\n",
      "2022-06-22  오전 10:56    <DIR>          .ipynb_checkpoints\n",
      "2022-06-22  오후 12:41    <DIR>          review\n",
      "2022-06-23  오후 05:41             8,480 Day4.ipynb\n",
      "2022-06-23  오후 02:50                 0 student.p\n",
      "2022-06-23  오후 03:43    <DIR>          data\n",
      "2022-06-28  오전 10:50           566,602 Web Scraping 기초.ipynb\n",
      "2022-06-28  오후 12:34           578,013 Web Scraping 기초 문법.ipynb\n",
      "2022-06-28  오후 02:22            15,060 mygoogle.html\n",
      "2022-06-28  오후 05:15         1,010,767 Web Scraping 응용(정적 웹 사이트).ipynb\n",
      "2022-06-28  오후 05:47             4,505 Web Scrapping 응용(동적 웹 사이트).ipynb\n",
      "2022-06-29  오전 11:31           436,265 Web_Scraping_응용(동적_웹페이지).ipynb\n",
      "2022-05-18  오전 01:13        11,735,552 chromedriver.exe\n",
      "2022-06-29  오후 02:48            20,756 Numpy day01.ipynb\n",
      "2022-06-29  오후 02:49           182,704 psj.png\n",
      "              11개 파일          14,558,704 바이트\n",
      "               5개 디렉터리  829,398,450,176 바이트 남음\n"
     ]
    }
   ],
   "source": [
    "## Workshop (색인과 슬라이싱)\n",
    "!dir\n",
    "import matplotlib.pyplot as plt"
   ]
  },
  {
   "cell_type": "code",
   "execution_count": 90,
   "id": "be59d886",
   "metadata": {},
   "outputs": [],
   "source": [
    "img = plt.imread(\"psj.png\")"
   ]
  },
  {
   "cell_type": "code",
   "execution_count": 91,
   "id": "cc328e8a",
   "metadata": {},
   "outputs": [
    {
     "data": {
      "text/plain": [
       "numpy.ndarray"
      ]
     },
     "execution_count": 91,
     "metadata": {},
     "output_type": "execute_result"
    }
   ],
   "source": [
    "type(img)"
   ]
  },
  {
   "cell_type": "code",
   "execution_count": 93,
   "id": "22fd87a4",
   "metadata": {},
   "outputs": [
    {
     "name": "stdout",
     "output_type": "stream",
     "text": [
      "(333, 365, 4) 3\n"
     ]
    }
   ],
   "source": [
    "print(img.shape, img.ndim) # 333 행, 365 열, 4개의 픽셀(rgb + 투명도) / 3차원 "
   ]
  },
  {
   "cell_type": "code",
   "execution_count": 112,
   "id": "431c0f23",
   "metadata": {},
   "outputs": [
    {
     "data": {
      "text/plain": [
       "array([[0.83137256, 0.8509804 , 0.8666667 , 1.        ],\n",
       "       [0.83137256, 0.8509804 , 0.8666667 , 1.        ],\n",
       "       [0.83137256, 0.8509804 , 0.8666667 , 1.        ],\n",
       "       ...,\n",
       "       [0.8509804 , 0.8627451 , 0.88235295, 1.        ],\n",
       "       [0.85490197, 0.8666667 , 0.8862745 , 1.        ],\n",
       "       [0.85490197, 0.8666667 , 0.8862745 , 1.        ]], dtype=float32)"
      ]
     },
     "execution_count": 112,
     "metadata": {},
     "output_type": "execute_result"
    }
   ],
   "source": [
    "img[0]"
   ]
  },
  {
   "cell_type": "code",
   "execution_count": 121,
   "id": "865ac57b",
   "metadata": {},
   "outputs": [
    {
     "data": {
      "text/plain": [
       "<matplotlib.image.AxesImage at 0x196de9e0730>"
      ]
     },
     "execution_count": 121,
     "metadata": {},
     "output_type": "execute_result"
    },
    {
     "data": {
      "image/png": "[encoded data removed]",
      "text/plain": [
       "<Figure size 432x288 with 1 Axes>"
      ]
     },
     "metadata": {
      "needs_background": "light"
     },
     "output_type": "display_data"
    }
   ],
   "source": [
    "plt.imshow(img)"
   ]
  },
  {
   "cell_type": "markdown",
   "id": "4c57836d",
   "metadata": {},
   "source": [
    " ### **왼쪽 상단에 붉은색(1,0,0)으로 overwrite 해보기**"
   ]
  },
  {
   "cell_type": "code",
   "execution_count": 122,
   "id": "d0ec5a1b",
   "metadata": {},
   "outputs": [
    {
     "data": {
      "text/plain": [
       "0.83137256"
      ]
     },
     "execution_count": 122,
     "metadata": {},
     "output_type": "execute_result"
    }
   ],
   "source": [
    "img[0][0][0] # 좌상단의 R값"
   ]
  },
  {
   "cell_type": "code",
   "execution_count": 123,
   "id": "cd849bd4",
   "metadata": {},
   "outputs": [
    {
     "data": {
      "text/plain": [
       "0.8509804"
      ]
     },
     "execution_count": 123,
     "metadata": {},
     "output_type": "execute_result"
    }
   ],
   "source": [
    "img[0][0][1] # 좌상단의 G값"
   ]
  },
  {
   "cell_type": "code",
   "execution_count": 125,
   "id": "646c7b10",
   "metadata": {},
   "outputs": [
    {
     "data": {
      "text/plain": [
       "0.8666667"
      ]
     },
     "execution_count": 125,
     "metadata": {},
     "output_type": "execute_result"
    }
   ],
   "source": [
    "img[0][0][2] # 좌상단의 B값"
   ]
  },
  {
   "cell_type": "code",
   "execution_count": 127,
   "id": "5e417215",
   "metadata": {},
   "outputs": [],
   "source": [
    "img[0][0] = 1., 0., 0., 1"
   ]
  },
  {
   "cell_type": "code",
   "execution_count": 128,
   "id": "e69909f5",
   "metadata": {},
   "outputs": [
    {
     "data": {
      "text/plain": [
       "<matplotlib.image.AxesImage at 0x196df3cdb50>"
      ]
     },
     "execution_count": 128,
     "metadata": {},
     "output_type": "execute_result"
    },
    {
     "data": {
      "image/png": "[encoded data removed]",
      "text/plain": [
       "<Figure size 432x288 with 1 Axes>"
      ]
     },
     "metadata": {
      "needs_background": "light"
     },
     "output_type": "display_data"
    }
   ],
   "source": [
    "img[0][0]\n",
    "plt.imshow(img)"
   ]
  },
  {
   "cell_type": "markdown",
   "id": "57631463",
   "metadata": {},
   "source": [
    " ### **왼쪽 상단 5x5 픽셀 영역에 보라색(1,0,1)으로 overwrite 해보기**"
   ]
  },
  {
   "cell_type": "code",
   "execution_count": 129,
   "id": "7f0ca297",
   "metadata": {},
   "outputs": [],
   "source": [
    "img = plt.imread(\"psj.png\")"
   ]
  },
  {
   "cell_type": "code",
   "execution_count": 133,
   "id": "724962f8",
   "metadata": {},
   "outputs": [
    {
     "data": {
      "text/plain": [
       "<matplotlib.image.AxesImage at 0x196e0a64e20>"
      ]
     },
     "execution_count": 133,
     "metadata": {},
     "output_type": "execute_result"
    },
    {
     "data": {
      "image/png": "[encoded data removed]",
      "text/plain": [
       "<Figure size 432x288 with 1 Axes>"
      ]
     },
     "metadata": {
      "needs_background": "light"
     },
     "output_type": "display_data"
    }
   ],
   "source": [
    "img[0:5, 0:5, 0] = 1\n",
    "img[0:5, 0:5, 1] = 0\n",
    "img[0:5, 0:5, 2] = 1\n",
    "plt.imshow(img)"
   ]
  },
  {
   "cell_type": "markdown",
   "id": "81c6dc91",
   "metadata": {},
   "source": [
    " ### **10픽셀 굵기로 액자 만들기 (색상은 자유)**"
   ]
  },
  {
   "cell_type": "code",
   "execution_count": 164,
   "id": "fe6ab914",
   "metadata": {},
   "outputs": [
    {
     "data": {
      "text/plain": [
       "(333, 365, 4)"
      ]
     },
     "execution_count": 164,
     "metadata": {},
     "output_type": "execute_result"
    }
   ],
   "source": [
    "img = plt.imread(\"psj.png\")\n",
    "img.shape"
   ]
  },
  {
   "cell_type": "code",
   "execution_count": 166,
   "id": "35d73a49",
   "metadata": {},
   "outputs": [
    {
     "data": {
      "text/plain": [
       "<matplotlib.image.AxesImage at 0x196e11a15b0>"
      ]
     },
     "execution_count": 166,
     "metadata": {},
     "output_type": "execute_result"
    },
    {
     "data": {
      "image/png": "[encoded data removed]",
      "text/plain": [
       "<Figure size 432x288 with 1 Axes>"
      ]
     },
     "metadata": {
      "needs_background": "light"
     },
     "output_type": "display_data"
    }
   ],
   "source": [
    "# 상단 수평선\n",
    "# img[:10, :, 0] = 1\n",
    "# img[:10, :, 1] = 1\n",
    "# img[:10, :, 2] = 0       \n",
    "img[0:10, :] = 1, 1, 0, 1\n",
    "\n",
    "# 하단 수평선\n",
    "img[img.shape[0]-10: , :] = 1, 1, 0, 1\n",
    "\n",
    "# 좌측 수평선\n",
    "img[:, 0:10] = 1, 1, 0, 1\n",
    "\n",
    "# 우측 수평선\n",
    "img[:, img.shape[1]-10:] =1, 1, 0, 1\n",
    "\n",
    "plt.imshow(img)"
   ]
  },
  {
   "cell_type": "markdown",
   "id": "d46b5503",
   "metadata": {},
   "source": [
    " ### 1.5 불리언 색인"
   ]
  },
  {
   "cell_type": "code",
   "execution_count": 178,
   "id": "52c19391",
   "metadata": {},
   "outputs": [
    {
     "data": {
      "text/plain": [
       "array(['Bob', 'Joe', 'Will', 'Bob', 'Will', 'Joe', 'Joe'], dtype='<U4')"
      ]
     },
     "execution_count": 178,
     "metadata": {},
     "output_type": "execute_result"
    }
   ],
   "source": [
    "data = np.arange(28).reshape((7, 4))\n",
    "names = np.array(['Bob', 'Joe', 'Will', 'Bob', 'Will', 'Joe', 'Joe']) "
   ]
  },
  {
   "cell_type": "code",
   "execution_count": 173,
   "id": "4e059e6e",
   "metadata": {},
   "outputs": [
    {
     "data": {
      "text/plain": [
       "array([ True, False, False,  True, False, False, False])"
      ]
     },
     "execution_count": 173,
     "metadata": {},
     "output_type": "execute_result"
    }
   ],
   "source": [
    "names == 'Bob' \n",
    "# 원소끼리의 연산을 실행 \n",
    "# 색인을 할 때는 각 각이 행으로 생각하기 "
   ]
  },
  {
   "cell_type": "code",
   "execution_count": 174,
   "id": "0d72bfea",
   "metadata": {},
   "outputs": [
    {
     "data": {
      "text/plain": [
       "array([[ 0,  1,  2,  3],\n",
       "       [ 4,  5,  6,  7],\n",
       "       [ 8,  9, 10, 11],\n",
       "       [12, 13, 14, 15],\n",
       "       [16, 17, 18, 19],\n",
       "       [20, 21, 22, 23],\n",
       "       [24, 25, 26, 27]])"
      ]
     },
     "execution_count": 174,
     "metadata": {},
     "output_type": "execute_result"
    }
   ],
   "source": [
    "data"
   ]
  },
  {
   "cell_type": "code",
   "execution_count": 175,
   "id": "9246b73b",
   "metadata": {},
   "outputs": [
    {
     "data": {
      "text/plain": [
       "array([[ 0,  1,  2,  3],\n",
       "       [12, 13, 14, 15]])"
      ]
     },
     "execution_count": 175,
     "metadata": {},
     "output_type": "execute_result"
    }
   ],
   "source": [
    "# data[[ True, False, False,  True, False, False, False]]\n",
    "data[names == 'Bob']"
   ]
  },
  {
   "cell_type": "code",
   "execution_count": 176,
   "id": "df460a1b",
   "metadata": {},
   "outputs": [
    {
     "data": {
      "text/plain": [
       "array([[ 2,  3],\n",
       "       [14, 15]])"
      ]
     },
     "execution_count": 176,
     "metadata": {},
     "output_type": "execute_result"
    }
   ],
   "source": [
    "data[names == 'Bob', 2:] # 열을 슬라이싱 -> 차원이 유지"
   ]
  },
  {
   "cell_type": "code",
   "execution_count": 177,
   "id": "2bbfe786",
   "metadata": {},
   "outputs": [
    {
     "data": {
      "text/plain": [
       "array([ 3, 15])"
      ]
     },
     "execution_count": 177,
     "metadata": {},
     "output_type": "execute_result"
    }
   ],
   "source": [
    "data[names == 'Bob', 3] # 열을 색인 -> 한차원 줄었음"
   ]
  },
  {
   "cell_type": "code",
   "execution_count": 179,
   "id": "1b6edc8a",
   "metadata": {},
   "outputs": [
    {
     "data": {
      "text/plain": [
       "array([[ 0,  1,  2,  3],\n",
       "       [12, 13, 14, 15]])"
      ]
     },
     "execution_count": 179,
     "metadata": {},
     "output_type": "execute_result"
    }
   ],
   "source": [
    "data[[True, False, False, True, False, False, False]]"
   ]
  },
  {
   "cell_type": "code",
   "execution_count": 180,
   "id": "38e44dd0",
   "metadata": {},
   "outputs": [
    {
     "data": {
      "text/plain": [
       "array([[ 0,  1,  2,  3],\n",
       "       [12, 13, 14, 15]])"
      ]
     },
     "execution_count": 180,
     "metadata": {},
     "output_type": "execute_result"
    }
   ],
   "source": [
    "data[[0, 3]]"
   ]
  },
  {
   "cell_type": "code",
   "execution_count": 181,
   "id": "a2f610ef",
   "metadata": {},
   "outputs": [
    {
     "data": {
      "text/plain": [
       "array([[ 0,  1,  2,  3],\n",
       "       [ 4,  5,  6,  7],\n",
       "       [ 8,  9, 10, 11],\n",
       "       [12, 13, 14, 15],\n",
       "       [16, 17, 18, 19],\n",
       "       [20, 21, 22, 23],\n",
       "       [24, 25, 26, 27]])"
      ]
     },
     "execution_count": 181,
     "metadata": {},
     "output_type": "execute_result"
    }
   ],
   "source": [
    "data"
   ]
  },
  {
   "cell_type": "markdown",
   "id": "24fce57e",
   "metadata": {},
   "source": [
    " ### 1.6 팬시 색인"
   ]
  },
  {
   "cell_type": "code",
   "execution_count": 182,
   "id": "0151e667",
   "metadata": {},
   "outputs": [
    {
     "data": {
      "text/plain": [
       "array([[ 0,  1,  2,  3],\n",
       "       [ 4,  5,  6,  7],\n",
       "       [ 8,  9, 10, 11],\n",
       "       [12, 13, 14, 15],\n",
       "       [16, 17, 18, 19],\n",
       "       [20, 21, 22, 23],\n",
       "       [24, 25, 26, 27]])"
      ]
     },
     "execution_count": 182,
     "metadata": {},
     "output_type": "execute_result"
    }
   ],
   "source": [
    "data"
   ]
  },
  {
   "cell_type": "code",
   "execution_count": 183,
   "id": "988f1a9d",
   "metadata": {},
   "outputs": [
    {
     "data": {
      "text/plain": [
       "array([[ 0,  1,  2,  3],\n",
       "       [20, 21, 22, 23]])"
      ]
     },
     "execution_count": 183,
     "metadata": {},
     "output_type": "execute_result"
    }
   ],
   "source": [
    "data[[0, 5]]"
   ]
  },
  {
   "cell_type": "code",
   "execution_count": 185,
   "id": "bcae4edc",
   "metadata": {},
   "outputs": [
    {
     "data": {
      "text/plain": [
       "array([[ 0,  1,  2,  3],\n",
       "       [20, 21, 22, 23]])"
      ]
     },
     "execution_count": 185,
     "metadata": {},
     "output_type": "execute_result"
    }
   ],
   "source": [
    "data[[-7, -2]]"
   ]
  },
  {
   "cell_type": "markdown",
   "id": "d0417174",
   "metadata": {},
   "source": [
    "## 2. 유니버셜 함수 : 배열의 각 원소를 빠르게 처리"
   ]
  },
  {
   "cell_type": "code",
   "execution_count": 187,
   "id": "3b0c77dd",
   "metadata": {},
   "outputs": [
    {
     "data": {
      "text/plain": [
       "array([0, 1, 2, 3, 4, 5, 6, 7, 8, 9])"
      ]
     },
     "execution_count": 187,
     "metadata": {},
     "output_type": "execute_result"
    }
   ],
   "source": [
    "arr = np.arange(10)\n",
    "arr"
   ]
  },
  {
   "cell_type": "code",
   "execution_count": 188,
   "id": "57b40292",
   "metadata": {},
   "outputs": [
    {
     "data": {
      "text/plain": [
       "array([0.        , 1.        , 1.41421356, 1.73205081, 2.        ,\n",
       "       2.23606798, 2.44948974, 2.64575131, 2.82842712, 3.        ])"
      ]
     },
     "execution_count": 188,
     "metadata": {},
     "output_type": "execute_result"
    }
   ],
   "source": [
    "np.sqrt(arr)"
   ]
  },
  {
   "cell_type": "code",
   "execution_count": 189,
   "id": "ee7964e4",
   "metadata": {},
   "outputs": [
    {
     "data": {
      "text/plain": [
       "array([1.00000000e+00, 2.71828183e+00, 7.38905610e+00, 2.00855369e+01,\n",
       "       5.45981500e+01, 1.48413159e+02, 4.03428793e+02, 1.09663316e+03,\n",
       "       2.98095799e+03, 8.10308393e+03])"
      ]
     },
     "execution_count": 189,
     "metadata": {},
     "output_type": "execute_result"
    }
   ],
   "source": [
    "np.exp(arr)"
   ]
  },
  {
   "cell_type": "code",
   "execution_count": 190,
   "id": "bd1c309b",
   "metadata": {},
   "outputs": [],
   "source": [
    "x = np.arange(10)\n",
    "y = np.arange(10) + 2"
   ]
  },
  {
   "cell_type": "code",
   "execution_count": 191,
   "id": "ff226ad8",
   "metadata": {},
   "outputs": [
    {
     "data": {
      "text/plain": [
       "array([ 2,  3,  4,  5,  6,  7,  8,  9, 10, 11])"
      ]
     },
     "execution_count": 191,
     "metadata": {},
     "output_type": "execute_result"
    }
   ],
   "source": [
    "np.maximum(x, y)"
   ]
  },
  {
   "cell_type": "markdown",
   "id": "778359b1",
   "metadata": {},
   "source": [
    "### Workshop 거리 계산(Numpy 사용)"
   ]
  },
  {
   "cell_type": "markdown",
   "id": "d3cace20",
   "metadata": {},
   "source": [
    "**거리계산**\n",
    "- 리스트를 이용하여 점 사이의 거리를 계산 해 보자.\n",
    "- 직교 좌표 위에서 A는 (1, 1), B는 (3, 2), C는 (5,7)일 때 X(2, 3)와  A/B/C와의 거리를 각각 구하여라.\n",
    "- 위 코드블럭을 이용하여 distMeasure 함수를 정의하라.\n"
   ]
  },
  {
   "cell_type": "code",
   "execution_count": 196,
   "id": "f933f57d",
   "metadata": {},
   "outputs": [],
   "source": [
    "# 파이썬\n",
    "points = [(1,1), (3,2), (5,7)]\n",
    "X = (2,3)\n",
    "\n",
    "from math import sqrt\n",
    "\n",
    "def distMeasure(points): # 여러 지점으로부터 X까지의 거리를 계산해서 결과 리스트 반환\n",
    "    result = []\n",
    "\n",
    "    for point in points: # point : (1, 1) -> (3, 2) -> (5, 7)\n",
    "        dist = sqrt((point[0] - X[0])**2 + (point[1] - X[1])**2)\n",
    "        result.append(dist)\n",
    "    return result"
   ]
  },
  {
   "cell_type": "code",
   "execution_count": 197,
   "id": "fb5c9929",
   "metadata": {},
   "outputs": [
    {
     "data": {
      "text/plain": [
       "[2.23606797749979, 1.4142135623730951, 5.0]"
      ]
     },
     "execution_count": 197,
     "metadata": {},
     "output_type": "execute_result"
    }
   ],
   "source": [
    "distMeasure(points)"
   ]
  },
  {
   "cell_type": "code",
   "execution_count": 205,
   "id": "e67b8d8c",
   "metadata": {},
   "outputs": [],
   "source": [
    "# numpy\n",
    "\n",
    "points  = np.array([1,1,3,2,5,7]).reshape(3,2)\n",
    "X = np.array([2,3])"
   ]
  },
  {
   "cell_type": "code",
   "execution_count": 217,
   "id": "7fcfb4ac",
   "metadata": {},
   "outputs": [
    {
     "data": {
      "text/plain": [
       "array([2.23606798, 1.41421356, 5.        ])"
      ]
     },
     "execution_count": 217,
     "metadata": {},
     "output_type": "execute_result"
    }
   ],
   "source": [
    "np.sqrt(np.sum((points - X)**2, axis = 1))"
   ]
  },
  {
   "cell_type": "code",
   "execution_count": 218,
   "id": "8d1068f5",
   "metadata": {},
   "outputs": [
    {
     "name": "stdout",
     "output_type": "stream",
     "text": [
      "[[1 2 3]\n",
      " [4 5 6]]\n"
     ]
    },
    {
     "data": {
      "text/plain": [
       "array([ 6, 15])"
      ]
     },
     "execution_count": 218,
     "metadata": {},
     "output_type": "execute_result"
    }
   ],
   "source": [
    "# axis = 0 (행방향) \n",
    "# axis = 1 (열방향)\n",
    "t = np.array([[1,2,3], [4,5,6]])\n",
    "print(t)\n",
    "\n",
    "np.sum(t, axis = 1)"
   ]
  },
  {
   "cell_type": "code",
   "execution_count": 219,
   "id": "8230e6b9",
   "metadata": {},
   "outputs": [
    {
     "data": {
      "text/plain": [
       "array([5, 7, 9])"
      ]
     },
     "execution_count": 219,
     "metadata": {},
     "output_type": "execute_result"
    }
   ],
   "source": [
    "np.sum(t, axis = 0)"
   ]
  },
  {
   "cell_type": "code",
   "execution_count": null,
   "id": "8f8b04a2",
   "metadata": {},
   "outputs": [],
   "source": []
  }
 ],
 "metadata": {
  "kernelspec": {
   "display_name": "Python 3 (ipykernel)",
   "language": "python",
   "name": "python3"
  },
  "language_info": {
   "codemirror_mode": {
    "name": "ipython",
    "version": 3
   },
   "file_extension": ".py",
   "mimetype": "text/x-python",
   "name": "python",
   "nbconvert_exporter": "python",
   "pygments_lexer": "ipython3",
   "version": "3.9.12"
  }
 },
 "nbformat": 4,
 "nbformat_minor": 5
}
