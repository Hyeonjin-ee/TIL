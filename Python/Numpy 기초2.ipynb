{
 "cells": [
  {
   "cell_type": "markdown",
   "id": "75b57d54",
   "metadata": {},
   "source": [
    "## Numpy 정리\n",
    "\n",
    "- 모듈 임포트"
   ]
  },
  {
   "cell_type": "code",
   "execution_count": 9,
   "id": "b4147dc4",
   "metadata": {},
   "outputs": [],
   "source": [
    "import numpy as np\n",
    "\n",
    "from numpy import array"
   ]
  },
  {
   "cell_type": "markdown",
   "id": "75fc5242",
   "metadata": {},
   "source": [
    "- 객체 생성"
   ]
  },
  {
   "cell_type": "code",
   "execution_count": 10,
   "id": "8566fec3",
   "metadata": {},
   "outputs": [
    {
     "data": {
      "text/plain": [
       "numpy.ndarray"
      ]
     },
     "execution_count": 10,
     "metadata": {},
     "output_type": "execute_result"
    }
   ],
   "source": [
    "a1 = array([10, 20, 30])\n",
    "\n",
    "type(a1)"
   ]
  },
  {
   "cell_type": "code",
   "execution_count": 11,
   "id": "bda6d81b",
   "metadata": {},
   "outputs": [],
   "source": [
    "a2 = array([[10, 20, 30], [40, 50, 60]])"
   ]
  },
  {
   "cell_type": "markdown",
   "id": "c0f075a8",
   "metadata": {},
   "source": [
    "- 모양(형상) 확인"
   ]
  },
  {
   "cell_type": "code",
   "execution_count": 12,
   "id": "7ce15e09",
   "metadata": {},
   "outputs": [
    {
     "data": {
      "text/plain": [
       "(3,)"
      ]
     },
     "execution_count": 12,
     "metadata": {},
     "output_type": "execute_result"
    }
   ],
   "source": [
    "a1.shape"
   ]
  },
  {
   "cell_type": "code",
   "execution_count": 13,
   "id": "7fc34a92",
   "metadata": {},
   "outputs": [
    {
     "data": {
      "text/plain": [
       "(2, 3)"
      ]
     },
     "execution_count": 13,
     "metadata": {},
     "output_type": "execute_result"
    }
   ],
   "source": [
    "a2.shape"
   ]
  },
  {
   "cell_type": "markdown",
   "id": "ad01bb47",
   "metadata": {},
   "source": [
    "- 자료형 확인"
   ]
  },
  {
   "cell_type": "code",
   "execution_count": 14,
   "id": "20196540",
   "metadata": {},
   "outputs": [
    {
     "data": {
      "text/plain": [
       "dtype('int32')"
      ]
     },
     "execution_count": 14,
     "metadata": {},
     "output_type": "execute_result"
    }
   ],
   "source": [
    "a1.dtype"
   ]
  },
  {
   "cell_type": "code",
   "execution_count": 15,
   "id": "c5c90e8c",
   "metadata": {},
   "outputs": [
    {
     "data": {
      "text/plain": [
       "dtype('int32')"
      ]
     },
     "execution_count": 15,
     "metadata": {},
     "output_type": "execute_result"
    }
   ],
   "source": [
    "a2.dtype"
   ]
  },
  {
   "cell_type": "markdown",
   "id": "f0ca74f2",
   "metadata": {},
   "source": [
    "- 정수 색인(인덱스 번호로 한 지점 색인)"
   ]
  },
  {
   "cell_type": "code",
   "execution_count": 16,
   "id": "26f67b08",
   "metadata": {},
   "outputs": [
    {
     "data": {
      "text/plain": [
       "10"
      ]
     },
     "execution_count": 16,
     "metadata": {},
     "output_type": "execute_result"
    }
   ],
   "source": [
    "a1[0]"
   ]
  },
  {
   "cell_type": "code",
   "execution_count": 17,
   "id": "e69e2caf",
   "metadata": {},
   "outputs": [
    {
     "data": {
      "text/plain": [
       "array([[10, 20, 30],\n",
       "       [40, 50, 60]])"
      ]
     },
     "execution_count": 17,
     "metadata": {},
     "output_type": "execute_result"
    }
   ],
   "source": [
    "a2"
   ]
  },
  {
   "cell_type": "code",
   "execution_count": 18,
   "id": "7802664c",
   "metadata": {},
   "outputs": [
    {
     "data": {
      "text/plain": [
       "50"
      ]
     },
     "execution_count": 18,
     "metadata": {},
     "output_type": "execute_result"
    }
   ],
   "source": [
    "a2[1][1] # a2[1, 1]"
   ]
  },
  {
   "cell_type": "markdown",
   "id": "352b0b56",
   "metadata": {},
   "source": [
    "- 슬라이스 색인(연속된 구간 색인)"
   ]
  },
  {
   "cell_type": "code",
   "execution_count": 19,
   "id": "23e219a5",
   "metadata": {},
   "outputs": [
    {
     "data": {
      "text/plain": [
       "array([20, 30])"
      ]
     },
     "execution_count": 19,
     "metadata": {},
     "output_type": "execute_result"
    }
   ],
   "source": [
    "a1[1:]"
   ]
  },
  {
   "cell_type": "code",
   "execution_count": 20,
   "id": "0940f577",
   "metadata": {},
   "outputs": [
    {
     "data": {
      "text/plain": [
       "array([[10, 20, 30],\n",
       "       [40, 50, 60]])"
      ]
     },
     "execution_count": 20,
     "metadata": {},
     "output_type": "execute_result"
    }
   ],
   "source": [
    "a2"
   ]
  },
  {
   "cell_type": "code",
   "execution_count": 21,
   "id": "5ea446c1",
   "metadata": {},
   "outputs": [
    {
     "data": {
      "text/plain": [
       "array([[20, 30]])"
      ]
     },
     "execution_count": 21,
     "metadata": {},
     "output_type": "execute_result"
    }
   ],
   "source": [
    "a2[0:1, 1:] # 2차원 배열이 출력"
   ]
  },
  {
   "cell_type": "code",
   "execution_count": 22,
   "id": "acade122",
   "metadata": {},
   "outputs": [
    {
     "data": {
      "text/plain": [
       "array([20, 30])"
      ]
     },
     "execution_count": 22,
     "metadata": {},
     "output_type": "execute_result"
    }
   ],
   "source": [
    "a2[0, 1:] # 1차원 배열이 출력"
   ]
  },
  {
   "cell_type": "markdown",
   "id": "c8750cf7",
   "metadata": {},
   "source": [
    "- 불리안 색인(조건으로 색인)"
   ]
  },
  {
   "cell_type": "code",
   "execution_count": 23,
   "id": "e9e6d839",
   "metadata": {},
   "outputs": [
    {
     "data": {
      "text/plain": [
       "array([10, 20, 30])"
      ]
     },
     "execution_count": 23,
     "metadata": {},
     "output_type": "execute_result"
    }
   ],
   "source": [
    "a1"
   ]
  },
  {
   "cell_type": "code",
   "execution_count": 24,
   "id": "3fc1f0d3",
   "metadata": {},
   "outputs": [
    {
     "data": {
      "text/plain": [
       "array([ True,  True, False])"
      ]
     },
     "execution_count": 24,
     "metadata": {},
     "output_type": "execute_result"
    }
   ],
   "source": [
    "a1 < 30"
   ]
  },
  {
   "cell_type": "code",
   "execution_count": 25,
   "id": "b2d47cc4",
   "metadata": {},
   "outputs": [
    {
     "data": {
      "text/plain": [
       "array([10, 20])"
      ]
     },
     "execution_count": 25,
     "metadata": {},
     "output_type": "execute_result"
    }
   ],
   "source": [
    "a1[a1 < 30]"
   ]
  },
  {
   "cell_type": "code",
   "execution_count": 26,
   "id": "a88ce968",
   "metadata": {},
   "outputs": [
    {
     "data": {
      "text/plain": [
       "array([[10, 20, 30],\n",
       "       [40, 50, 60]])"
      ]
     },
     "execution_count": 26,
     "metadata": {},
     "output_type": "execute_result"
    }
   ],
   "source": [
    "a2"
   ]
  },
  {
   "cell_type": "code",
   "execution_count": 27,
   "id": "e55fc6e5",
   "metadata": {},
   "outputs": [
    {
     "data": {
      "text/plain": [
       "array([[ True,  True, False],\n",
       "       [False, False,  True]])"
      ]
     },
     "execution_count": 27,
     "metadata": {},
     "output_type": "execute_result"
    }
   ],
   "source": [
    "(a2 < 30) | (a2 > 50)"
   ]
  },
  {
   "cell_type": "code",
   "execution_count": 28,
   "id": "8e9ce498",
   "metadata": {},
   "outputs": [
    {
     "data": {
      "text/plain": [
       "array([10, 20, 60])"
      ]
     },
     "execution_count": 28,
     "metadata": {},
     "output_type": "execute_result"
    }
   ],
   "source": [
    "a2[(a2 < 30) | (a2 > 50)]"
   ]
  },
  {
   "cell_type": "markdown",
   "id": "6196e832",
   "metadata": {},
   "source": [
    "- 팬시 색인 (원하는 순서로 색인)"
   ]
  },
  {
   "cell_type": "code",
   "execution_count": 29,
   "id": "ff7e6bd6",
   "metadata": {},
   "outputs": [
    {
     "data": {
      "text/plain": [
       "array([10, 20, 30])"
      ]
     },
     "execution_count": 29,
     "metadata": {},
     "output_type": "execute_result"
    }
   ],
   "source": [
    "a1"
   ]
  },
  {
   "cell_type": "code",
   "execution_count": 30,
   "id": "6a2ec6c9",
   "metadata": {},
   "outputs": [
    {
     "data": {
      "text/plain": [
       "array([30, 10])"
      ]
     },
     "execution_count": 30,
     "metadata": {},
     "output_type": "execute_result"
    }
   ],
   "source": [
    "a1[[2, 0]]"
   ]
  },
  {
   "cell_type": "markdown",
   "id": "4925af63",
   "metadata": {},
   "source": [
    "- 브로드캐스팅"
   ]
  },
  {
   "cell_type": "code",
   "execution_count": 31,
   "id": "5018466c",
   "metadata": {},
   "outputs": [
    {
     "data": {
      "text/plain": [
       "array([[10, 20, 30],\n",
       "       [40, 50, 60]])"
      ]
     },
     "execution_count": 31,
     "metadata": {},
     "output_type": "execute_result"
    }
   ],
   "source": [
    "a2"
   ]
  },
  {
   "cell_type": "code",
   "execution_count": 32,
   "id": "de71de99",
   "metadata": {},
   "outputs": [
    {
     "data": {
      "text/plain": [
       "array([[11, 21, 31],\n",
       "       [41, 51, 61]])"
      ]
     },
     "execution_count": 32,
     "metadata": {},
     "output_type": "execute_result"
    }
   ],
   "source": [
    "a2 + 1"
   ]
  },
  {
   "cell_type": "code",
   "execution_count": 33,
   "id": "940ece0d",
   "metadata": {},
   "outputs": [
    {
     "data": {
      "text/plain": [
       "array([[11, 21, 31],\n",
       "       [41, 51, 61]])"
      ]
     },
     "execution_count": 33,
     "metadata": {},
     "output_type": "execute_result"
    }
   ],
   "source": [
    "a2 + [1, 1, 1]"
   ]
  },
  {
   "cell_type": "code",
   "execution_count": 34,
   "id": "4fe138af",
   "metadata": {},
   "outputs": [
    {
     "ename": "ValueError",
     "evalue": "operands could not be broadcast together with shapes (2,3) (2,) ",
     "output_type": "error",
     "traceback": [
      "\u001b[1;31m---------------------------------------------------------------------------\u001b[0m",
      "\u001b[1;31mValueError\u001b[0m                                Traceback (most recent call last)",
      "Input \u001b[1;32mIn [34]\u001b[0m, in \u001b[0;36m<cell line: 1>\u001b[1;34m()\u001b[0m\n\u001b[1;32m----> 1\u001b[0m \u001b[43ma2\u001b[49m\u001b[43m \u001b[49m\u001b[38;5;241;43m+\u001b[39;49m\u001b[43m \u001b[49m\u001b[43m[\u001b[49m\u001b[38;5;241;43m1\u001b[39;49m\u001b[43m,\u001b[49m\u001b[43m \u001b[49m\u001b[38;5;241;43m1\u001b[39;49m\u001b[43m]\u001b[49m\n",
      "\u001b[1;31mValueError\u001b[0m: operands could not be broadcast together with shapes (2,3) (2,) "
     ]
    }
   ],
   "source": [
    "a2 + [1, 1]"
   ]
  },
  {
   "cell_type": "markdown",
   "id": "6ac461b4",
   "metadata": {},
   "source": [
    "- 유니버설 함수"
   ]
  },
  {
   "cell_type": "code",
   "execution_count": 35,
   "id": "920cb1fe",
   "metadata": {},
   "outputs": [
    {
     "data": {
      "text/plain": [
       "array([1., 2., 3.])"
      ]
     },
     "execution_count": 35,
     "metadata": {},
     "output_type": "execute_result"
    }
   ],
   "source": [
    "a1 * 0.1"
   ]
  },
  {
   "cell_type": "code",
   "execution_count": 36,
   "id": "253e8e84",
   "metadata": {},
   "outputs": [
    {
     "data": {
      "text/plain": [
       "array([100, 400, 900])"
      ]
     },
     "execution_count": 36,
     "metadata": {},
     "output_type": "execute_result"
    }
   ],
   "source": [
    "a1 * a1"
   ]
  },
  {
   "cell_type": "code",
   "execution_count": 37,
   "id": "880b9250",
   "metadata": {},
   "outputs": [
    {
     "data": {
      "text/plain": [
       "array([[10, 20, 30],\n",
       "       [40, 50, 60]])"
      ]
     },
     "execution_count": 37,
     "metadata": {},
     "output_type": "execute_result"
    }
   ],
   "source": [
    "a2"
   ]
  },
  {
   "cell_type": "code",
   "execution_count": 38,
   "id": "feb1cdc9",
   "metadata": {},
   "outputs": [
    {
     "data": {
      "text/plain": [
       "210"
      ]
     },
     "execution_count": 38,
     "metadata": {},
     "output_type": "execute_result"
    }
   ],
   "source": [
    "a2.sum()"
   ]
  },
  {
   "cell_type": "code",
   "execution_count": 39,
   "id": "d5819aad",
   "metadata": {},
   "outputs": [
    {
     "data": {
      "text/plain": [
       "array([50, 70, 90])"
      ]
     },
     "execution_count": 39,
     "metadata": {},
     "output_type": "execute_result"
    }
   ],
   "source": [
    "a2.sum(0) # np.sum(a2, axis=0),\"0번 축\"(행축)을 따라서~"
   ]
  },
  {
   "cell_type": "code",
   "execution_count": 40,
   "id": "febec10b",
   "metadata": {},
   "outputs": [
    {
     "data": {
      "text/plain": [
       "array([ 60, 150])"
      ]
     },
     "execution_count": 40,
     "metadata": {},
     "output_type": "execute_result"
    }
   ],
   "source": [
    "a2.sum(1) # np.sum(a2, axis=1), \"1번 축\"(열축)을 따라서~"
   ]
  },
  {
   "cell_type": "markdown",
   "id": "66d1cf6c",
   "metadata": {},
   "source": [
    "## 3. 그외 기능들\n",
    "\n",
    "### 3.1 배열전치"
   ]
  },
  {
   "cell_type": "code",
   "execution_count": 41,
   "id": "e40f1fba",
   "metadata": {},
   "outputs": [
    {
     "data": {
      "text/plain": [
       "array([[ 0,  1,  2,  3,  4],\n",
       "       [ 5,  6,  7,  8,  9],\n",
       "       [10, 11, 12, 13, 14]])"
      ]
     },
     "execution_count": 41,
     "metadata": {},
     "output_type": "execute_result"
    }
   ],
   "source": [
    "arr = np.arange(15).reshape((3,5))\n",
    "arr"
   ]
  },
  {
   "cell_type": "code",
   "execution_count": 42,
   "id": "9d2e7b55",
   "metadata": {},
   "outputs": [
    {
     "data": {
      "text/plain": [
       "array([[ 0,  5, 10],\n",
       "       [ 1,  6, 11],\n",
       "       [ 2,  7, 12],\n",
       "       [ 3,  8, 13],\n",
       "       [ 4,  9, 14]])"
      ]
     },
     "execution_count": 42,
     "metadata": {},
     "output_type": "execute_result"
    }
   ],
   "source": [
    "arr.T"
   ]
  },
  {
   "cell_type": "markdown",
   "id": "0ffc44dc",
   "metadata": {},
   "source": [
    "# 행렬의 곱셈"
   ]
  },
  {
   "cell_type": "code",
   "execution_count": null,
   "id": "e2ad97ee",
   "metadata": {},
   "outputs": [],
   "source": [
    "# arr x arr = 연산이 이루어지지 않음\n",
    "# (3,5) x (3,5)\n",
    "\n",
    "# arr x arr.T = 연산이 가능\n",
    "# (3,5) x (5,3)"
   ]
  },
  {
   "cell_type": "code",
   "execution_count": 43,
   "id": "868a72f2",
   "metadata": {},
   "outputs": [
    {
     "data": {
      "text/plain": [
       "array([[ 30,  80, 130],\n",
       "       [ 80, 255, 430],\n",
       "       [130, 430, 730]])"
      ]
     },
     "execution_count": 43,
     "metadata": {},
     "output_type": "execute_result"
    }
   ],
   "source": [
    "np.dot(arr, arr.T) # (3,5) x(5,3)= (3,3)"
   ]
  },
  {
   "cell_type": "markdown",
   "id": "5ee31485",
   "metadata": {},
   "source": [
    "### 3.2 배열 연산 조건절 표현하기"
   ]
  },
  {
   "cell_type": "code",
   "execution_count": 44,
   "id": "3e8fc1be",
   "metadata": {},
   "outputs": [
    {
     "data": {
      "text/plain": [
       "[1, 2, 7, 8]"
      ]
     },
     "execution_count": 44,
     "metadata": {},
     "output_type": "execute_result"
    }
   ],
   "source": [
    "x_arr = [1, 2, 3, 4]\n",
    "y_arr = [5, 6, 7, 8]\n",
    "cond = [True, True, False, False]\n",
    "\n",
    "[(x if c else y) for x, y, c in zip(x_arr, y_arr, cond)]"
   ]
  },
  {
   "cell_type": "code",
   "execution_count": 45,
   "id": "0a7a6474",
   "metadata": {},
   "outputs": [
    {
     "data": {
      "text/plain": [
       "array([1, 2, 7, 8])"
      ]
     },
     "execution_count": 45,
     "metadata": {},
     "output_type": "execute_result"
    }
   ],
   "source": [
    "x_arr = np.array([1, 2, 3, 4])\n",
    "y_arr = np.array([5, 6, 7, 8])\n",
    "cond = [True, True, False, False]\n",
    "\n",
    "result = np.where(cond, x_arr, y_arr)\n",
    "result"
   ]
  },
  {
   "cell_type": "code",
   "execution_count": 46,
   "id": "11a343bc",
   "metadata": {},
   "outputs": [
    {
     "data": {
      "text/plain": [
       "array([[ 0,  1,  2,  3],\n",
       "       [ 4,  5,  6,  7],\n",
       "       [ 8,  9, 10, 11],\n",
       "       [12, 13, 14, 15]])"
      ]
     },
     "execution_count": 46,
     "metadata": {},
     "output_type": "execute_result"
    }
   ],
   "source": [
    "arr = np.arange(16).reshape((4, 4))\n",
    "arr"
   ]
  },
  {
   "cell_type": "code",
   "execution_count": 47,
   "id": "de2e8823",
   "metadata": {},
   "outputs": [
    {
     "data": {
      "text/plain": [
       "array([[-1, -1, -1, -1],\n",
       "       [-1, -1, -1, -1],\n",
       "       [-1, -1,  1,  1],\n",
       "       [ 1,  1,  1,  1]])"
      ]
     },
     "execution_count": 47,
     "metadata": {},
     "output_type": "execute_result"
    }
   ],
   "source": [
    "### arr 원소중에 10보다 작은 값들은 -1로 바꾸고\n",
    "### arr 원소중에 10보다 크거나 같은 값들은 1로 바꾸기\n",
    "\n",
    "np.where(arr < 10, -1, 1 )"
   ]
  },
  {
   "cell_type": "code",
   "execution_count": 48,
   "id": "630c2f02",
   "metadata": {},
   "outputs": [
    {
     "ename": "SyntaxError",
     "evalue": "invalid syntax (621464087.py, line 7)",
     "output_type": "error",
     "traceback": [
      "\u001b[1;36m  Input \u001b[1;32mIn [48]\u001b[1;36m\u001b[0m\n\u001b[1;33m    np.where(컨디션, True일때 취할 값(시퀀스 객체, 스칼라값), False일 때 취할 값(시퀀스 객체, 스칼라값))\u001b[0m\n\u001b[1;37m                         ^\u001b[0m\n\u001b[1;31mSyntaxError\u001b[0m\u001b[1;31m:\u001b[0m invalid syntax\n"
     ]
    }
   ],
   "source": [
    "### arr 원소중에 10보다 작은 값들은 -1로 바꾸고\n",
    "### arr 원소중에 10보다 크거나 같은 값들은 그대로 두기\n",
    "\n",
    "np.where(arr<10, -1, arr)\n",
    "arr < 10\n",
    "\n",
    "np.where(컨디션, True일때 취할 값(시퀀스 객체, 스칼라값), False일 때 취할 값(시퀀스 객체, 스칼라값))"
   ]
  },
  {
   "cell_type": "markdown",
   "id": "de1c5898",
   "metadata": {},
   "source": [
    "# np.info(np.where)\n",
    "\n",
    "### 3.3 수학 통계 메서드"
   ]
  },
  {
   "cell_type": "code",
   "execution_count": 49,
   "id": "3cebe632",
   "metadata": {},
   "outputs": [
    {
     "data": {
      "text/plain": [
       "array([[ 0,  1,  2,  3],\n",
       "       [ 4,  5,  6,  7],\n",
       "       [ 8,  9, 10, 11],\n",
       "       [12, 13, 14, 15],\n",
       "       [16, 17, 18, 19]])"
      ]
     },
     "execution_count": 49,
     "metadata": {},
     "output_type": "execute_result"
    }
   ],
   "source": [
    "arr = np.arange(20).reshape(5, 4)\n",
    "arr"
   ]
  },
  {
   "cell_type": "code",
   "execution_count": 50,
   "id": "7a5adcee",
   "metadata": {},
   "outputs": [
    {
     "data": {
      "text/plain": [
       "array([ 8.,  9., 10., 11.])"
      ]
     },
     "execution_count": 50,
     "metadata": {},
     "output_type": "execute_result"
    }
   ],
   "source": [
    "arr.mean(0) # np.mean(arr, 0)"
   ]
  },
  {
   "cell_type": "code",
   "execution_count": 51,
   "id": "ec208479",
   "metadata": {},
   "outputs": [
    {
     "data": {
      "text/plain": [
       "array([0, 1, 2, 3])"
      ]
     },
     "execution_count": 51,
     "metadata": {},
     "output_type": "execute_result"
    }
   ],
   "source": [
    "arr.min(0)"
   ]
  },
  {
   "cell_type": "code",
   "execution_count": 52,
   "id": "2d3bb48f",
   "metadata": {},
   "outputs": [
    {
     "data": {
      "text/plain": [
       "array([16, 17, 18, 19])"
      ]
     },
     "execution_count": 52,
     "metadata": {},
     "output_type": "execute_result"
    }
   ],
   "source": [
    "arr.max(0)"
   ]
  },
  {
   "cell_type": "code",
   "execution_count": 53,
   "id": "fc031411",
   "metadata": {},
   "outputs": [
    {
     "data": {
      "text/plain": [
       "array([[ 0,  1,  2,  3],\n",
       "       [ 4,  5,  6,  7],\n",
       "       [ 8,  9, 10, 11],\n",
       "       [12, 13, 14, 15],\n",
       "       [16, 17, 18, 19]])"
      ]
     },
     "execution_count": 53,
     "metadata": {},
     "output_type": "execute_result"
    }
   ],
   "source": [
    "arr"
   ]
  },
  {
   "cell_type": "code",
   "execution_count": 54,
   "id": "cdfd2588",
   "metadata": {},
   "outputs": [
    {
     "data": {
      "text/plain": [
       "array([[ 0,  1,  3,  6],\n",
       "       [ 4,  9, 15, 22],\n",
       "       [ 8, 17, 27, 38],\n",
       "       [12, 25, 39, 54],\n",
       "       [16, 33, 51, 70]], dtype=int32)"
      ]
     },
     "execution_count": 54,
     "metadata": {},
     "output_type": "execute_result"
    }
   ],
   "source": [
    "arr.cumsum(1)"
   ]
  },
  {
   "cell_type": "code",
   "execution_count": 55,
   "id": "cbc5ffca",
   "metadata": {},
   "outputs": [
    {
     "data": {
      "text/plain": [
       "array([[    0,     0,     0,     0],\n",
       "       [    4,    20,   120,   840],\n",
       "       [    8,    72,   720,  7920],\n",
       "       [   12,   156,  2184, 32760],\n",
       "       [   16,   272,  4896, 93024]], dtype=int32)"
      ]
     },
     "execution_count": 55,
     "metadata": {},
     "output_type": "execute_result"
    }
   ],
   "source": [
    "arr.cumprod(1)"
   ]
  },
  {
   "cell_type": "markdown",
   "id": "51ff4d3e",
   "metadata": {},
   "source": [
    "### 3.4 불리안 배열 메서드"
   ]
  },
  {
   "cell_type": "code",
   "execution_count": 56,
   "id": "c43b6da6",
   "metadata": {},
   "outputs": [
    {
     "data": {
      "text/plain": [
       "array([[ 0,  1,  2,  3,  4,  5,  6,  7],\n",
       "       [ 8,  9, 10, 11, 12, 13, 14, 15]])"
      ]
     },
     "execution_count": 56,
     "metadata": {},
     "output_type": "execute_result"
    }
   ],
   "source": [
    "arr = np.arange(16).reshape((2, 8))\n",
    "arr"
   ]
  },
  {
   "cell_type": "code",
   "execution_count": 57,
   "id": "b9e49afa",
   "metadata": {},
   "outputs": [],
   "source": [
    "bools = arr < 8"
   ]
  },
  {
   "cell_type": "code",
   "execution_count": 58,
   "id": "a36f7ad0",
   "metadata": {},
   "outputs": [
    {
     "data": {
      "text/plain": [
       "True"
      ]
     },
     "execution_count": 58,
     "metadata": {},
     "output_type": "execute_result"
    }
   ],
   "source": [
    "bools.any()"
   ]
  },
  {
   "cell_type": "code",
   "execution_count": 59,
   "id": "26111f6d",
   "metadata": {},
   "outputs": [
    {
     "data": {
      "text/plain": [
       "False"
      ]
     },
     "execution_count": 59,
     "metadata": {},
     "output_type": "execute_result"
    }
   ],
   "source": [
    "bools.all()"
   ]
  },
  {
   "cell_type": "markdown",
   "id": "2f422789",
   "metadata": {},
   "source": [
    "### 3.5 정렬"
   ]
  },
  {
   "cell_type": "code",
   "execution_count": 60,
   "id": "2d29ac9d",
   "metadata": {},
   "outputs": [
    {
     "data": {
      "text/plain": [
       "array([[-1.42334177, -0.00404294, -1.11362869,  0.53150363],\n",
       "       [-2.17008363, -1.26082708, -0.91399813,  0.39494173],\n",
       "       [-1.66367267, -1.04273284, -0.08708018,  0.82117973]])"
      ]
     },
     "execution_count": 60,
     "metadata": {},
     "output_type": "execute_result"
    }
   ],
   "source": [
    "arr = np.random.randn(3, 4)\n",
    "arr"
   ]
  },
  {
   "cell_type": "code",
   "execution_count": 61,
   "id": "1532493d",
   "metadata": {},
   "outputs": [
    {
     "data": {
      "text/plain": [
       "array([[-1.42334177, -1.11362869, -0.00404294,  0.53150363],\n",
       "       [-2.17008363, -1.26082708, -0.91399813,  0.39494173],\n",
       "       [-1.66367267, -1.04273284, -0.08708018,  0.82117973]])"
      ]
     },
     "execution_count": 61,
     "metadata": {},
     "output_type": "execute_result"
    }
   ],
   "source": [
    "arr.sort(1) # np.sort(arr, 1)\n",
    "arr"
   ]
  },
  {
   "cell_type": "code",
   "execution_count": 62,
   "id": "93fb75f4",
   "metadata": {},
   "outputs": [],
   "source": [
    "arr.sort(0)"
   ]
  },
  {
   "cell_type": "markdown",
   "id": "29d4dc3d",
   "metadata": {},
   "source": [
    "### 3.6 집합 관련 함수"
   ]
  },
  {
   "cell_type": "code",
   "execution_count": 63,
   "id": "156f043f",
   "metadata": {},
   "outputs": [
    {
     "data": {
      "text/plain": [
       "array(['Bob', 'Joe', 'Will'], dtype='<U4')"
      ]
     },
     "execution_count": 63,
     "metadata": {},
     "output_type": "execute_result"
    }
   ],
   "source": [
    "names = np.array(['Bob', 'Joe', 'Will', 'Bob', 'Will', 'Joe', 'Joe'])\n",
    "np.unique(names)"
   ]
  },
  {
   "cell_type": "code",
   "execution_count": 64,
   "id": "f2d79fab",
   "metadata": {},
   "outputs": [
    {
     "data": {
      "text/plain": [
       "{'Bob', 'Joe', 'Will'}"
      ]
     },
     "execution_count": 64,
     "metadata": {},
     "output_type": "execute_result"
    }
   ],
   "source": [
    "set(names) # 파이썬의 set"
   ]
  },
  {
   "cell_type": "markdown",
   "id": "a9802f63",
   "metadata": {},
   "source": [
    "### 3.7 난수 생성"
   ]
  },
  {
   "cell_type": "markdown",
   "id": "52835e29",
   "metadata": {},
   "source": [
    "![image.png](data:image/png;base64,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)"
   ]
  },
  {
   "cell_type": "markdown",
   "id": "f262b53f",
   "metadata": {},
   "source": [
    "- 정규분포에서 표본을 추출"
   ]
  },
  {
   "cell_type": "code",
   "execution_count": 65,
   "id": "6e0b65e8",
   "metadata": {},
   "outputs": [
    {
     "data": {
      "text/plain": [
       "array([ 1.16690587e+00, -1.93683612e+00, -3.91522672e-01, -3.94660347e-01,\n",
       "       -2.96681146e-01,  7.35608742e-01, -3.76408413e-01, -1.65807892e+00,\n",
       "        7.69268654e-01,  8.53307326e-01, -1.07540404e+00,  7.33916970e-02,\n",
       "       -1.11067227e+00, -7.85003853e-02, -1.06831350e+00, -5.50436625e-01,\n",
       "       -8.19158455e-02,  7.25086783e-01, -2.06617990e-01,  2.10034852e-01,\n",
       "        2.63183388e-01,  1.03917743e+00,  1.24621105e+00, -2.38268045e-01,\n",
       "       -3.39898406e-01, -3.76477835e-01,  1.08991842e+00, -5.53979033e-01,\n",
       "       -1.34348837e+00,  6.33622168e-01, -5.78250651e-01,  5.24763000e-01,\n",
       "        1.31316666e-01, -3.50395089e-01, -6.53125449e-01, -9.30818620e-02,\n",
       "        2.87803857e-01,  1.13531178e+00,  2.44219232e-01,  2.10737946e+00,\n",
       "        9.14731362e-01,  3.75462511e-01, -1.45245924e+00,  1.16559073e+00,\n",
       "       -5.68310631e-01,  1.14887170e+00,  1.23529689e+00,  4.49019729e-01,\n",
       "        1.47828309e+00,  2.60686416e-01, -8.53788772e-01, -2.40306018e-01,\n",
       "        4.74654389e-02,  9.32592355e-01,  2.79437129e-01, -1.68597065e+00,\n",
       "        2.32448701e-01, -8.84726836e-01, -1.35018020e+00, -2.96988729e-01,\n",
       "       -9.34772227e-01, -1.20088717e+00, -2.26423094e+00, -1.03527597e+00,\n",
       "       -1.88388175e-01, -1.00719039e+00,  4.78044316e-01,  7.02158658e-01,\n",
       "        8.43387836e-01,  4.67138127e-01,  2.58286541e-01,  1.20288923e+00,\n",
       "        4.50829364e-01,  1.10795376e-01, -5.30183520e-01, -6.13656742e-01,\n",
       "        3.60542457e-01, -5.24269936e-01, -6.68264110e-01,  1.23717387e-01,\n",
       "        1.31638148e+00, -2.31380100e+00, -5.37036654e-01, -3.79316536e-01,\n",
       "        1.62000489e+00,  1.06771589e+00, -8.82653789e-01,  1.32165379e-01,\n",
       "       -1.02210919e+00,  3.40188117e-01, -3.45338179e-01,  1.39199951e+00,\n",
       "        2.55195684e-01,  1.15599836e+00,  9.28870604e-01,  8.40034866e-02,\n",
       "       -6.76117448e-02, -7.55508804e-01, -5.50564922e-01,  3.76735414e-01,\n",
       "        6.77083843e-01, -7.91583340e-01,  1.17824685e+00, -6.44194863e-01,\n",
       "       -9.14042473e-01, -6.17481235e-01,  1.47886441e+00,  8.62001892e-02,\n",
       "        7.76671808e-01,  1.34030591e-01, -2.82491125e-01, -1.86771659e+00,\n",
       "        7.11595339e-01,  2.32435791e-01,  4.37449726e-01,  2.06773369e+00,\n",
       "       -3.32542247e-01, -1.03429862e+00, -4.84933118e-01,  3.89856487e+00,\n",
       "       -2.82660280e-01, -6.09301324e-02,  6.66671165e-01, -3.16905609e-01,\n",
       "       -9.07036222e-01,  1.04446815e-01,  1.24201315e+00, -1.06221465e-01,\n",
       "        8.23295552e-01, -2.53356330e-01, -1.16231544e+00, -1.40776266e-01,\n",
       "        7.55425107e-01,  5.94641205e-01,  1.20974043e+00,  6.62451597e-01,\n",
       "        1.71937038e-02, -2.90022607e-01,  1.67302224e+00,  1.02624714e+00,\n",
       "        4.96703679e-01, -1.30042286e+00,  1.70513032e-01, -1.17200263e+00,\n",
       "        1.88891826e+00,  2.30343601e-01,  5.10214886e-01,  1.23303444e+00,\n",
       "        9.03624081e-02,  1.61124903e+00, -9.37286817e-01,  1.00303087e+00,\n",
       "        9.02629433e-01, -1.75554929e+00,  1.18890839e+00,  7.93117925e-01,\n",
       "        7.04461165e-01,  9.59988706e-01,  4.35927353e-02, -1.44137548e+00,\n",
       "       -4.72557427e-02, -2.84272512e+00, -3.54135022e-02, -3.16661432e-02,\n",
       "        1.34144262e-01,  8.13323151e-01,  1.16248943e+00,  1.21100645e+00,\n",
       "       -1.17118144e+00, -3.16119763e-01,  1.01959001e-01,  1.03463610e+00,\n",
       "        8.65221686e-02, -5.55086612e-01,  1.13044119e-01,  5.68389982e-01,\n",
       "       -1.03034440e+00, -6.59389741e-01, -1.43848965e+00,  1.15205003e+00,\n",
       "       -1.80307602e-01,  2.11517729e+00, -1.65757777e-01,  6.01364888e-01,\n",
       "       -2.32027202e+00,  1.14863940e+00,  1.93666312e-01,  4.38232509e-01,\n",
       "        2.72444964e-01,  1.05788147e+00, -1.48069420e+00,  9.84139116e-01,\n",
       "       -4.31979329e-02, -1.65823268e-01,  1.09732828e+00, -1.14286334e+00,\n",
       "       -1.00018739e+00, -3.28044833e-01, -6.27670203e-01, -4.91266078e-02,\n",
       "       -8.75313213e-01,  9.92383672e-01,  9.88330985e-02,  5.37712925e-01,\n",
       "        3.01756272e-01,  1.00974398e+00,  8.94072729e-02,  1.71332761e+00,\n",
       "       -5.42149084e-01, -1.88380732e-01, -4.07867499e-01,  1.24168410e+00,\n",
       "        1.07141833e-01, -1.45740952e-01,  3.55391208e-01, -1.60304115e-01,\n",
       "       -1.72368925e-01,  1.08776780e-01,  7.48079819e-01,  1.57155488e+00,\n",
       "        1.31231306e+00,  4.92433747e-01,  3.35371294e-01, -1.01323124e+00,\n",
       "        2.60644999e+00, -8.15894987e-01, -9.58558036e-01, -6.17566384e-01,\n",
       "       -2.35566753e-01,  2.23329823e+00, -7.01224344e-01, -1.97825956e+00,\n",
       "        8.77919468e-02,  4.26215199e-01,  2.10073026e-01, -7.26763989e-02,\n",
       "       -1.26704581e+00,  1.26753018e+00,  1.02944131e+00,  2.41896244e-01,\n",
       "       -2.71129979e+00, -1.22636171e+00,  7.48407217e-01, -1.39658517e+00,\n",
       "        1.35565048e+00,  1.85306985e-01, -4.93673442e-01, -5.79498403e-01,\n",
       "       -1.04573457e+00, -1.25954224e+00, -7.81469544e-01, -1.08833666e+00,\n",
       "       -6.22925880e-01, -6.17214840e-01, -8.49461052e-01, -1.15543658e+00,\n",
       "        1.36652257e+00, -8.56673003e-01,  4.89166419e-01, -7.47087999e-01,\n",
       "       -8.26812816e-02,  2.31803343e-01, -2.50246472e-01, -9.18524562e-01,\n",
       "       -1.95529915e+00,  1.45930566e+00, -2.31807346e-01, -2.03560881e+00,\n",
       "       -1.16064810e+00, -1.65794024e+00,  2.97756830e-01,  5.04556034e-01,\n",
       "        3.61355300e-02, -9.63303910e-02,  4.06270197e-01,  8.05973878e-01,\n",
       "        9.70378551e-01, -2.80267357e-01, -7.36292985e-01,  1.57547299e+00,\n",
       "       -2.30514317e+00, -9.56722374e-01, -1.96533396e-01,  2.48207181e-01,\n",
       "        2.33099238e+00,  2.16150323e-01,  7.92248855e-01,  5.37223898e-01,\n",
       "       -8.98452902e-01, -1.11230282e-01, -7.28913635e-01,  1.20365294e+00,\n",
       "       -4.33635427e-01,  1.08740942e+00, -8.95980855e-01,  1.24224381e+00,\n",
       "        2.59687352e-01, -2.05034566e+00,  7.83087391e-01,  2.55072083e-01,\n",
       "        1.77733042e-01, -7.91939861e-01,  5.09864583e-01,  1.01663124e-01,\n",
       "       -6.08321913e-01, -1.06177035e+00, -1.07487988e+00, -8.94738503e-01,\n",
       "        5.13249107e-01,  1.02873729e-01, -3.25145697e-01, -4.78903839e-02,\n",
       "       -1.27333848e+00,  1.95287074e-01,  1.59650081e+00,  1.08455000e-01,\n",
       "        4.45736169e-01, -3.84028618e-01,  1.00027808e+00,  9.80548504e-02,\n",
       "       -7.62376737e-01,  2.09072244e+00, -1.69387666e+00, -1.11854437e+00,\n",
       "        8.33903329e-01,  9.21709992e-01,  1.05595452e+00, -1.23777084e+00,\n",
       "       -8.01714978e-01,  8.83420438e-02, -8.50900590e-02, -8.28699113e-01,\n",
       "       -8.50976222e-01, -7.22530805e-02,  4.03188595e-01,  2.10615044e+00,\n",
       "       -4.22175796e-02, -7.00889488e-01,  5.67040808e-01,  2.01750657e-01,\n",
       "        1.48406489e-01,  2.13339411e-01, -1.43763866e+00,  1.13860782e+00,\n",
       "        1.39857675e+00, -1.84465441e+00, -1.97934663e+00, -5.30705989e-01,\n",
       "       -2.12264595e+00, -1.15866763e+00, -5.05383801e-01, -2.53836639e+00,\n",
       "        8.10403411e-01, -4.56169804e-01, -1.09749090e+00, -1.00963055e+00,\n",
       "        4.70792555e-01, -2.22844518e-01,  1.39455681e+00,  9.97498644e-02,\n",
       "        2.19526609e+00, -5.10197660e-01,  8.23790936e-01, -1.61809693e+00,\n",
       "       -6.53900938e-01,  9.17159222e-01,  3.94491775e-02,  1.25509437e+00,\n",
       "        9.13998282e-01, -2.29899056e-01,  4.00276775e-01, -1.37361694e+00,\n",
       "       -4.61122710e-01, -7.66054152e-01,  9.40662215e-01,  7.13558824e-01,\n",
       "        6.34118843e-01, -2.56869653e-01,  1.32426755e+00, -4.68280654e-01,\n",
       "        6.30874970e-02, -1.64196640e+00, -3.34323267e-01, -1.05178751e+00,\n",
       "        1.08674858e+00,  4.88966429e-01, -1.29206812e+00, -1.45566254e-01,\n",
       "       -9.86506083e-01,  2.38208122e-01,  1.44562708e+00,  1.79469702e-01,\n",
       "       -5.69205402e-01, -7.87412001e-05,  1.26483945e+00, -1.46447677e+00,\n",
       "        1.71427047e+00, -2.16563695e-01,  5.32848936e-01,  5.61868259e-01,\n",
       "       -3.93166701e-01,  1.12300300e+00,  1.62443515e+00,  4.97562620e-01,\n",
       "       -5.72086722e-01,  5.82218230e-01, -5.73066839e-01,  2.65001961e-01,\n",
       "       -1.97900559e+00, -2.70010509e-01, -6.56296218e-01,  4.72792254e-01,\n",
       "       -8.79872489e-02, -1.23659483e+00, -2.87057162e-01,  1.29854727e-01,\n",
       "       -1.31655376e+00, -9.92421202e-01, -1.61678987e+00,  8.94872792e-01,\n",
       "       -1.89482408e-01, -2.15618486e+00, -1.11049014e+00,  1.98645808e+00,\n",
       "       -1.90053675e+00,  1.06174149e-01, -9.11769953e-01, -9.08311402e-01,\n",
       "       -1.00972542e-01, -2.50914602e-01,  1.29349070e+00,  1.54279292e+00,\n",
       "       -2.74061409e-01,  1.81008709e+00,  4.84882617e-01, -5.38485872e-02,\n",
       "       -4.83038358e-01, -1.84836067e-01,  1.49643294e+00, -7.51759780e-01,\n",
       "       -3.15024104e-02,  1.28509326e+00, -9.78111542e-01, -9.20268003e-01,\n",
       "        9.91352476e-01, -3.02207613e-01, -4.61862926e-01,  1.52153371e+00,\n",
       "        3.84701866e-01, -5.39159566e-02, -1.24505100e+00,  7.23893510e-01,\n",
       "        1.21445504e-01, -1.21562058e+00,  8.51992035e-01,  2.71741030e-01,\n",
       "        4.36968504e-01, -6.29748964e-01, -8.11677709e-01,  1.78693768e-01,\n",
       "        1.58905933e+00, -1.14229941e+00,  1.12123724e+00, -1.72526652e+00,\n",
       "        2.93271351e+00, -2.70898468e+00, -1.76772050e-01,  1.45561373e+00,\n",
       "       -2.44031005e+00,  4.46281649e-02,  1.74330271e+00, -1.81631146e+00,\n",
       "       -1.92496459e-01,  8.13801211e-02, -2.68635155e-01,  1.73876965e-01,\n",
       "       -6.49473282e-01, -3.44670177e+00,  1.51563768e+00,  1.64545460e-01,\n",
       "        6.02546143e-02, -1.55692792e+00,  1.20914525e+00,  1.27655627e-01,\n",
       "        1.17174874e-01, -9.20191282e-01,  4.58471524e-02, -7.02188878e-02,\n",
       "       -5.99684382e-01, -1.04002437e+00,  5.75548996e-01,  1.43930966e+00,\n",
       "        5.16989156e-01,  9.94045769e-01,  2.86858538e-01, -6.24132426e-01,\n",
       "        1.79771003e+00,  5.67290430e-01,  2.14116463e+00,  3.65801087e-02,\n",
       "        2.76265783e-01,  4.53810794e-01,  7.47247786e-01,  6.95440928e-01,\n",
       "       -6.11838768e-02,  9.61907491e-01, -8.98546153e-01, -5.27874339e-01,\n",
       "        1.33701415e+00,  5.17103264e-01, -1.13043510e-01, -5.44304257e-01,\n",
       "       -3.65526979e-02, -2.22262752e+00, -3.31084945e-01, -6.61700870e-02,\n",
       "        1.11721820e+00,  8.65612437e-01,  2.36831533e+00,  1.29617143e-01,\n",
       "       -9.36745253e-01, -6.76108622e-01, -5.12283136e-01,  1.37973900e+00,\n",
       "        1.65879907e+00, -3.94696234e-01,  6.28344193e-01,  8.03578676e-01,\n",
       "        1.77691225e-03,  2.37257617e-01, -3.56828856e-01, -4.17505778e-01,\n",
       "        7.03784392e-02,  3.96608723e-01,  1.45741892e+00, -5.80276485e-01,\n",
       "       -1.00441220e+00, -1.79332880e+00, -4.43792338e-01,  8.31377153e-01,\n",
       "        1.76464591e+00, -5.46958912e-01,  3.92493320e-01,  8.71216162e-02,\n",
       "        5.15612261e-02,  2.69301160e-04,  8.17513117e-01,  1.41082799e+00,\n",
       "        5.78645067e-01, -2.06575238e+00,  1.84447280e-01, -2.10722230e-01,\n",
       "        6.48880551e-01, -7.06278869e-01, -3.23970466e-01,  2.52061398e-01,\n",
       "        1.04186287e+00, -6.34911531e-01,  1.71137823e+00,  6.85332195e-01,\n",
       "        5.62763278e-01, -1.13783473e+00,  4.28022170e-01, -1.22547652e+00,\n",
       "       -1.03747440e-01, -5.69804270e-01,  1.04313379e+00,  2.40081261e+00,\n",
       "        3.11702490e-01, -1.91685183e-01,  5.50748186e-01, -6.27935043e-01,\n",
       "       -1.22404991e+00,  1.04177939e+00,  2.17304020e+00, -5.52718589e-01,\n",
       "       -4.54041786e-01, -3.09636323e-01,  1.23489209e-02, -2.92844070e-01,\n",
       "        5.76288548e-01,  7.20355588e-01, -1.47065422e+00,  1.54963710e-02,\n",
       "       -1.52147379e+00, -7.99780572e-01, -6.17896599e-01, -9.70976382e-01,\n",
       "        8.58130727e-01,  1.35445366e+00,  3.58988839e-01, -7.27750597e-01,\n",
       "        7.27733577e-01,  1.10138672e+00, -2.06135765e-01,  2.18264861e+00,\n",
       "       -1.02192755e+00, -9.51923170e-01,  3.65836234e-01,  4.85763105e-01,\n",
       "       -3.24211609e-01,  3.75311026e-02,  1.44427928e+00, -2.40903568e+00,\n",
       "       -2.12007858e-01, -1.12033123e+00,  6.35031116e-01, -9.46903170e-01,\n",
       "       -1.38661583e+00, -1.21286165e+00,  9.42785275e-01, -2.33117122e+00,\n",
       "        2.26972180e-01, -1.75112326e+00,  1.08911214e+00,  1.54611865e+00,\n",
       "       -2.03425888e-01,  2.82196860e-01, -1.07092542e+00,  6.83094579e-01,\n",
       "        2.43664465e-03,  6.56830677e-01,  9.47604821e-01, -5.50100031e-01,\n",
       "        1.03265409e+00, -3.40698661e-01,  5.34567790e-01,  4.81199371e-01,\n",
       "       -2.01180780e+00, -8.23910876e-01,  1.28735252e+00,  3.01593424e-02,\n",
       "       -1.33712270e+00, -4.94856971e-01, -1.06921518e+00, -1.05480697e-01,\n",
       "       -9.34704605e-01,  4.38793256e-02, -9.06276617e-01,  2.29484490e-01,\n",
       "       -9.68042018e-01, -2.40207712e+00,  6.40332991e-01, -1.38250186e+00,\n",
       "       -1.75752582e-01,  5.63634090e-01,  3.40685968e-01, -4.49997766e-01,\n",
       "        1.40420185e-01, -1.03649953e+00, -7.59749777e-01,  3.62144472e-01,\n",
       "       -3.45235668e-01, -1.13790088e-02, -9.19615753e-02,  5.08667708e-01,\n",
       "       -5.49805294e-01,  5.17537063e-01,  6.16934956e-02, -1.80837146e-01,\n",
       "       -6.78975660e-02,  1.11415554e+00, -2.70815350e-01, -8.13491411e-01,\n",
       "        1.44533081e+00, -7.30883786e-01, -5.91695592e-01, -1.22118974e-02,\n",
       "       -6.99580854e-01, -2.93696084e+00,  9.72755143e-01, -1.31341044e+00,\n",
       "        1.03559719e+00, -3.85609508e-01,  1.76540666e+00,  1.95262985e-01,\n",
       "       -1.84188796e+00,  2.33268921e+00, -5.97164182e-01,  8.14025938e-01,\n",
       "       -1.76782101e+00, -7.24851959e-01,  8.42816260e-01,  1.77354724e-01,\n",
       "        3.33070958e-01,  3.63890835e-02,  4.57102630e-01,  1.19745518e-01,\n",
       "       -1.83354259e-01, -6.53993950e-01,  6.42057787e-01,  1.48459762e-01,\n",
       "        1.50925612e+00,  1.46809307e-01, -1.68369791e+00,  9.29363955e-01,\n",
       "       -7.21656025e-01, -1.76918507e+00,  8.75536071e-01, -5.49215978e-01,\n",
       "       -1.77836300e+00, -2.55820941e-01,  8.42795092e-02, -1.03601661e+00,\n",
       "       -8.67278393e-01, -2.61600373e-01, -8.64778979e-03,  1.07571473e+00,\n",
       "       -1.58449588e+00,  5.88050737e-01, -2.40867763e-01, -5.95002093e-01,\n",
       "        5.55668123e-02, -1.71297323e-01, -8.91410031e-01, -2.14448454e-01,\n",
       "        9.55523250e-01, -8.52762534e-01,  1.73744320e+00, -1.29442115e+00,\n",
       "        7.41758769e-01, -1.95146203e+00, -7.04456660e-01, -1.07973628e+00,\n",
       "       -1.65533377e-01, -1.38329916e-01, -2.22012687e-01,  1.46387914e+00,\n",
       "       -1.38830554e+00, -1.56606257e+00,  6.74295887e-01, -1.32817126e+00,\n",
       "        4.48937107e-01, -1.40974832e+00, -1.24397956e+00,  2.79821768e-01,\n",
       "       -4.18506711e-01,  2.13800027e+00,  7.63089178e-01, -1.42292419e-01,\n",
       "        7.75501004e-01, -5.27874850e-01, -9.40553915e-01,  5.60118925e-01,\n",
       "       -4.57888121e-01, -6.12758550e-01, -8.48716548e-01, -1.21030566e+00,\n",
       "       -7.16573257e-01, -5.88606589e-01,  7.16167116e-01, -1.10649444e+00,\n",
       "        1.73991322e+00, -2.34838558e-01, -3.58013207e-01, -5.18808308e-01,\n",
       "        1.59583699e+00, -1.29516071e+00,  3.79381580e-01,  6.95478784e-01,\n",
       "        8.81976159e-02,  3.17153417e-01,  1.09090722e+00, -8.18267032e-01,\n",
       "        2.55432390e-01, -4.63477895e-01, -4.85608803e-01,  1.66840179e+00,\n",
       "       -2.06027699e+00, -1.57562556e+00,  6.76977652e-01,  1.02334641e+00,\n",
       "       -5.89000289e-02, -7.53185848e-02, -4.25556339e-01, -3.74941133e-01,\n",
       "        6.20959975e-02,  5.06580478e-01,  1.20618082e+00,  1.10224775e-01,\n",
       "       -1.49984872e+00, -1.73952954e-01,  1.73222010e+00,  1.02707798e+00,\n",
       "        1.31679656e+00,  9.61680364e-01, -2.20500512e-01, -7.19403811e-01,\n",
       "       -9.14275664e-01,  9.99574103e-01,  1.46609761e+00,  5.88629810e-01,\n",
       "       -4.13348284e-01, -1.70634884e+00, -5.59907094e-02,  7.40451683e-01,\n",
       "        9.83574150e-01, -5.07527397e-01, -7.47690721e-01, -2.41939150e-01,\n",
       "        9.26199487e-01, -5.89308186e-01,  1.87434709e-02,  1.60046342e+00,\n",
       "        1.46229521e-01,  1.44140223e+00,  7.80541339e-01,  2.28897770e+00,\n",
       "        3.23556950e-01,  3.08947140e-01, -8.92823737e-01,  8.27909971e-01,\n",
       "       -3.95740895e-01,  1.21041426e+00, -6.02690213e-01, -5.36714761e-01,\n",
       "        1.92374374e+00, -1.32476453e+00,  4.60315449e-01,  8.42174938e-02,\n",
       "       -7.98808345e-01, -5.71452898e-01,  2.85745054e-01,  4.40125477e-01,\n",
       "       -9.48043183e-01,  1.36512042e-01,  1.47447888e+00, -7.74254551e-02,\n",
       "        5.05373083e-01, -8.24081628e-01, -5.70054081e-01,  8.51528786e-01,\n",
       "        3.49878500e-01, -1.67380282e+00,  2.90293238e-01, -3.03956887e-01,\n",
       "        6.01820878e-01, -2.19613992e+00, -7.42555203e-01, -3.78268974e-01,\n",
       "       -7.01223092e-01, -6.17643458e-01,  8.49181804e-02,  3.12104733e-01,\n",
       "       -1.02084702e+00,  2.89884260e-01,  3.13029421e-01, -2.23933045e+00,\n",
       "       -3.38871114e-01, -8.63565729e-01,  1.07196907e+00,  6.55585532e-02,\n",
       "       -4.13506778e-02,  2.90075183e-01,  4.22055637e-01, -1.03275892e+00,\n",
       "        3.92111310e-01, -2.37251058e+00, -1.04441371e+00,  2.35994252e-01,\n",
       "        6.98502026e-01,  1.40236552e-01, -8.23060046e-01,  4.29067831e-01,\n",
       "        9.14006087e-02,  1.09596019e+00, -2.06988330e+00,  8.73182204e-02,\n",
       "        5.04881533e-01,  3.74502093e-01,  8.63071148e-01, -1.11190971e+00,\n",
       "        1.00042904e+00, -4.87723076e-01, -8.51401306e-01, -7.54970390e-01,\n",
       "       -1.04935175e+00,  1.57103469e-01,  9.86180815e-01,  7.42743626e-01,\n",
       "        2.27030832e+00, -8.32062839e-01, -9.27957037e-01,  2.19154000e-01,\n",
       "        7.08645817e-01, -7.66796002e-01, -2.91137875e-01,  8.97955977e-02,\n",
       "        7.01184403e-01,  2.14138181e-01,  9.27024860e-01,  8.03551783e-01,\n",
       "        1.73407104e+00,  5.78300029e-01,  5.51839255e-02, -3.61978015e-01,\n",
       "        9.12247448e-01,  1.96904959e+00,  2.06527582e+00,  1.44111847e-02,\n",
       "       -8.18695961e-01, -1.29143620e+00,  1.20252885e+00,  1.03084868e+00,\n",
       "       -1.03749908e+00,  5.68602109e-01,  2.36389601e+00, -1.57961002e+00,\n",
       "        4.86238612e-01,  3.09269057e-01,  5.05123598e-01, -1.25841215e+00,\n",
       "       -5.34216444e-01, -1.44982061e-01, -9.28962576e-01, -1.14644126e-02,\n",
       "       -5.87291706e-03,  7.08965647e-01, -1.96384371e+00,  4.86029528e-01,\n",
       "       -1.09435163e+00,  6.00136191e-01, -1.15861154e+00, -8.95853451e-01,\n",
       "        1.63874174e+00,  5.41220771e-01,  5.41815249e-01,  1.10926342e+00,\n",
       "       -3.00210089e-01,  2.12763470e-01, -1.62911311e+00, -6.92973111e-01,\n",
       "        4.70542606e-01, -5.81812499e-01,  3.56249015e-01,  8.42177721e-01,\n",
       "        7.79293588e-01, -1.67500596e-01,  8.20165652e-01, -1.35353796e-01,\n",
       "        1.00913454e-01,  2.49483489e-01,  1.97777625e-01,  6.32667476e-01,\n",
       "       -3.56598821e-01, -1.28484344e+00,  8.91024767e-01,  1.30923560e+00,\n",
       "        6.33152983e-01, -6.43338274e-01, -5.64485168e-02, -3.46799827e-01,\n",
       "       -2.02281435e-01,  2.50011981e-01,  3.51382742e-02, -8.88688365e-01,\n",
       "        1.85622561e-01,  2.83255219e-01, -1.34093513e+00, -8.37699615e-01,\n",
       "       -7.45624543e-01,  2.68781207e+00,  8.07550062e-02, -6.89926476e-01,\n",
       "       -1.39479252e+00, -5.57349784e-01, -1.87415836e-01, -6.01591929e-01,\n",
       "        1.76126215e+00, -8.03098639e-02,  2.05444134e+00, -8.26250862e-01,\n",
       "        9.41262271e-01,  7.00482730e-01, -9.58607300e-01,  1.45602232e+00,\n",
       "        6.40267572e-01,  1.25935435e+00,  7.51252144e-01, -5.55343535e-01,\n",
       "       -1.15576104e+00,  6.57172012e-01, -6.70617796e-01, -7.58147444e-01,\n",
       "       -1.85444630e-01, -6.78473040e-01,  1.10689728e+00, -4.19711347e-01,\n",
       "        6.75905797e-01,  2.21180718e+00, -5.83400694e-01, -4.89958491e-01,\n",
       "        1.77322375e-01, -4.96326320e-01,  1.00694046e+00,  6.77754411e-01,\n",
       "       -1.68611118e+00, -2.41730531e-01, -7.85367661e-01,  1.07865845e+00])"
      ]
     },
     "execution_count": 65,
     "metadata": {},
     "output_type": "execute_result"
    }
   ],
   "source": [
    "samples = np.random.normal(size= 1000)\n",
    "samples"
   ]
  },
  {
   "cell_type": "code",
   "execution_count": 66,
   "id": "78d04497",
   "metadata": {},
   "outputs": [
    {
     "data": {
      "text/plain": [
       "(array([  3.,  26.,  69., 220., 280., 233., 127.,  38.,   3.,   1.]),\n",
       " array([-3.44670177, -2.71217511, -1.97764844, -1.24312178, -0.50859511,\n",
       "         0.22593155,  0.96045822,  1.69498488,  2.42951155,  3.16403821,\n",
       "         3.89856487]),\n",
       " <BarContainer object of 10 artists>)"
      ]
     },
     "execution_count": 66,
     "metadata": {},
     "output_type": "execute_result"
    },
    {
     "data": {
      "image/png": "[encoded data removed]",
      "text/plain": [
       "<Figure size 432x288 with 1 Axes>"
      ]
     },
     "metadata": {
      "needs_background": "light"
     },
     "output_type": "display_data"
    }
   ],
   "source": [
    "import matplotlib.pyplot as plt\n",
    "plt.hist(samples)"
   ]
  },
  {
   "cell_type": "markdown",
   "id": "aaa7435d",
   "metadata": {},
   "source": [
    "- 표준 정규분포에서 표본을 추출"
   ]
  },
  {
   "cell_type": "code",
   "execution_count": 67,
   "id": "2bb5c84b",
   "metadata": {},
   "outputs": [],
   "source": [
    "samples2 = np.random.randn(10000)"
   ]
  },
  {
   "cell_type": "code",
   "execution_count": 68,
   "id": "b48f261c",
   "metadata": {},
   "outputs": [
    {
     "data": {
      "text/plain": [
       "(-0.008607008481744614, 0.9947948658233098)"
      ]
     },
     "execution_count": 68,
     "metadata": {},
     "output_type": "execute_result"
    }
   ],
   "source": [
    "samples2.mean(), samples2.std()"
   ]
  },
  {
   "cell_type": "markdown",
   "id": "c14252f6",
   "metadata": {},
   "source": [
    "- 최대 최소 범위에서 난수 생성"
   ]
  },
  {
   "cell_type": "code",
   "execution_count": 69,
   "id": "6de0d207",
   "metadata": {},
   "outputs": [
    {
     "data": {
      "text/plain": [
       "2"
      ]
     },
     "execution_count": 69,
     "metadata": {},
     "output_type": "execute_result"
    }
   ],
   "source": [
    "np.random.randint(1, 10)"
   ]
  },
  {
   "cell_type": "markdown",
   "id": "698528f9",
   "metadata": {},
   "source": [
    "- 순서를 임의로 바꾼 순열을 반환"
   ]
  },
  {
   "cell_type": "code",
   "execution_count": 70,
   "id": "19cc0938",
   "metadata": {},
   "outputs": [
    {
     "data": {
      "text/plain": [
       "array([0, 2, 9, 4, 5, 6, 7, 3, 1, 8])"
      ]
     },
     "execution_count": 70,
     "metadata": {},
     "output_type": "execute_result"
    }
   ],
   "source": [
    "arr = np.arange(10)\n",
    "np.random.permutation(arr)"
   ]
  },
  {
   "cell_type": "markdown",
   "id": "eaf3f357",
   "metadata": {},
   "source": [
    "### Workshop 1\n",
    "\n",
    "![image.png](data:image/png;base64,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)"
   ]
  },
  {
   "cell_type": "code",
   "execution_count": 71,
   "id": "9e48a738",
   "metadata": {},
   "outputs": [
    {
     "name": "stdout",
     "output_type": "stream",
     "text": [
      "[25 15 16 24 42 36]\n",
      "[23 43 45 13 17  3]\n",
      "[41 26 13  5 15  1]\n",
      "[40 18  7 29  6 28]\n",
      "[29 22 11  7 20 12]\n",
      "[ 6 30 33  9  4 20]\n",
      "[ 9 37 12 39 13 21]\n",
      "[35 45  7 21 23 44]\n",
      "[21 18  8 17 20 39]\n",
      "[22 15  7 33 18 30]\n"
     ]
    }
   ],
   "source": [
    "for i in range(10):\n",
    "  a = np.arange(1, 46)\n",
    "  b = np.random.permutation(a)\n",
    "  print(b[:6])"
   ]
  },
  {
   "cell_type": "markdown",
   "id": "5bede813",
   "metadata": {},
   "source": [
    "### Workshop 2 계단 오르내리기"
   ]
  },
  {
   "cell_type": "code",
   "execution_count": 72,
   "id": "d6bad14f",
   "metadata": {},
   "outputs": [],
   "source": [
    "import random"
   ]
  },
  {
   "cell_type": "code",
   "execution_count": 79,
   "id": "66029001",
   "metadata": {},
   "outputs": [],
   "source": [
    "position = 0 # 계단 1칸 올라가기: +1, 계단 1칸 내려가기 : -1\n",
    "steps = 1000\n",
    "\n",
    "walk = [position] # 위치 히스토리\n",
    "\n",
    "for i in range(steps):\n",
    "  # random.randint(0, 1) : 동전을 던졌을 때 앞 또는 뒤\n",
    "  if random.randint(0, 1): # 1:True, 0:False\n",
    "    step = 1\n",
    "  else:\n",
    "    step = -1\n",
    "\n",
    "  position += step\n",
    "  walk.append(position)"
   ]
  },
  {
   "cell_type": "code",
   "execution_count": 80,
   "id": "219d9352",
   "metadata": {},
   "outputs": [
    {
     "data": {
      "text/plain": [
       "36"
      ]
     },
     "execution_count": 80,
     "metadata": {},
     "output_type": "execute_result"
    }
   ],
   "source": [
    "position"
   ]
  },
  {
   "cell_type": "code",
   "execution_count": 81,
   "id": "ec7d529e",
   "metadata": {},
   "outputs": [
    {
     "data": {
      "text/plain": [
       "[<matplotlib.lines.Line2D at 0x28961c896d0>]"
      ]
     },
     "execution_count": 81,
     "metadata": {},
     "output_type": "execute_result"
    },
    {
     "data": {
      "image/png": "[encoded data removed]",
      "text/plain": [
       "<Figure size 432x288 with 1 Axes>"
      ]
     },
     "metadata": {
      "needs_background": "light"
     },
     "output_type": "display_data"
    }
   ],
   "source": [
    "plt.plot(walk)"
   ]
  },
  {
   "cell_type": "markdown",
   "id": "4c5f59eb",
   "metadata": {},
   "source": [
    "- 위의 코드를 Numpy로 구현\n",
    "```\n",
    "np.random.randint() : 동전의 앞뒤 결정\n",
    "np.where() : 동전의 앞뒤 조건에 따른 step\n",
    "```"
   ]
  },
  {
   "cell_type": "code",
   "execution_count": 101,
   "id": "eeab2ab9",
   "metadata": {},
   "outputs": [],
   "source": [
    "nsteps = 1000\n",
    "draws = np.random.randint(0,2, nsteps)\n",
    "\n",
    "steps = np.where(draws > 0, 1, -1)\n",
    "\n",
    "walk = steps.cumsum() # np.cumsum(steps) \n",
    "# 파이썬코드에서의 position에 해당하는 모두 더한 값"
   ]
  },
  {
   "cell_type": "code",
   "execution_count": 102,
   "id": "4507e506",
   "metadata": {},
   "outputs": [
    {
     "data": {
      "text/plain": [
       "((1000,), (1000,))"
      ]
     },
     "execution_count": 102,
     "metadata": {},
     "output_type": "execute_result"
    }
   ],
   "source": [
    "steps.shape, walk.shape"
   ]
  },
  {
   "cell_type": "code",
   "execution_count": 103,
   "id": "47231769",
   "metadata": {},
   "outputs": [
    {
     "data": {
      "text/plain": [
       "[<matplotlib.lines.Line2D at 0x28962de4fd0>]"
      ]
     },
     "execution_count": 103,
     "metadata": {},
     "output_type": "execute_result"
    },
    {
     "data": {
      "image/png": "[encoded data removed]",
      "text/plain": [
       "<Figure size 432x288 with 1 Axes>"
      ]
     },
     "metadata": {
      "needs_background": "light"
     },
     "output_type": "display_data"
    }
   ],
   "source": [
    "plt.plot(walk)"
   ]
  },
  {
   "cell_type": "code",
   "execution_count": 104,
   "id": "8c437e17",
   "metadata": {},
   "outputs": [
    {
     "data": {
      "text/plain": [
       "4"
      ]
     },
     "execution_count": 104,
     "metadata": {},
     "output_type": "execute_result"
    }
   ],
   "source": [
    "a = np.array([1, 3, 5, 6, 9])\n",
    "a.argmax() # max값이 들어있는 인덱스를 추출"
   ]
  },
  {
   "cell_type": "code",
   "execution_count": 105,
   "id": "6dd6e7c1",
   "metadata": {},
   "outputs": [
    {
     "data": {
      "text/plain": [
       "101"
      ]
     },
     "execution_count": 105,
     "metadata": {},
     "output_type": "execute_result"
    }
   ],
   "source": [
    "# 처음 위치에서 10계단 이상 떨어지는 데 걸린 횟수\n",
    "# argmax()는 최대값(True)가 등장하는 첫번째 인덱스  \n",
    "(walk>=10).argmax()"
   ]
  },
  {
   "cell_type": "code",
   "execution_count": null,
   "id": "67353617",
   "metadata": {},
   "outputs": [],
   "source": []
  }
 ],
 "metadata": {
  "kernelspec": {
   "display_name": "Python 3 (ipykernel)",
   "language": "python",
   "name": "python3"
  },
  "language_info": {
   "codemirror_mode": {
    "name": "ipython",
    "version": 3
   },
   "file_extension": ".py",
   "mimetype": "text/x-python",
   "name": "python",
   "nbconvert_exporter": "python",
   "pygments_lexer": "ipython3",
   "version": "3.9.12"
  }
 },
 "nbformat": 4,
 "nbformat_minor": 5
}
